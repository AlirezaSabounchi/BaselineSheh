{
 "cells": [
  {
   "cell_type": "code",
   "execution_count": 1,
   "metadata": {},
   "outputs": [],
   "source": [
    "import pandas as pd\n",
    "from rdkit import Chem\n",
    "from rdkit.Chem import AllChem\n",
    "from tqdm import tqdm"
   ]
  },
  {
   "cell_type": "code",
   "execution_count": 3,
   "metadata": {},
   "outputs": [
    {
     "name": "stderr",
     "output_type": "stream",
     "text": [
      " 90%|█████████ | 6177/6830 [00:22<00:02, 313.75it/s][21:32:02] UFFTYPER: Unrecognized atom type: S_5+4 (4)\n",
      "[21:32:02] UFFTYPER: Unrecognized atom type: S_5+4 (3)\n",
      " 91%|█████████▏| 6242/6830 [00:23<00:01, 318.54it/s][21:32:03] UFFTYPER: Unrecognized atom type: S_5+4 (1)\n",
      "[21:32:03] UFFTYPER: Unrecognized atom type: S_5+4 (1)\n",
      "[21:32:03] UFFTYPER: Unrecognized atom type: S_5+4 (1)\n",
      "[21:32:03] UFFTYPER: Unrecognized atom type: S_5+4 (1)\n",
      "[21:32:03] UFFTYPER: Unrecognized atom type: S_5+4 (1)\n",
      " 92%|█████████▏| 6274/6830 [00:23<00:01, 318.85it/s][21:32:03] UFFTYPER: Unrecognized atom type: S_5+4 (3)\n",
      "[21:32:03] UFFTYPER: Unrecognized atom type: S_5+4 (2)\n",
      " 92%|█████████▏| 6307/6830 [00:23<00:01, 320.33it/s][21:32:03] UFFTYPER: Unrecognized atom type: S_5+4 (2)\n",
      "[21:32:03] UFFTYPER: Unrecognized atom type: S_5+4 (2)\n",
      "[21:32:03] UFFTYPER: Unrecognized atom type: S_5+4 (3)\n",
      " 93%|█████████▎| 6374/6830 [00:23<00:01, 324.05it/s][21:32:03] UFFTYPER: Unrecognized atom type: S_5+4 (2)\n",
      "[21:32:03] UFFTYPER: Unrecognized atom type: S_5+4 (2)\n",
      "[21:32:03] UFFTYPER: Unrecognized atom type: S_5+4 (2)\n",
      "[21:32:03] UFFTYPER: Unrecognized atom type: S_5+4 (1)\n",
      "[21:32:03] UFFTYPER: Unrecognized atom type: S_5+4 (1)\n",
      "[21:32:03] UFFTYPER: Unrecognized atom type: S_5+4 (3)\n",
      "100%|██████████| 6830/6830 [00:25<00:00, 269.20it/s]\n"
     ]
    }
   ],
   "source": [
    "qdf= pd.read_csv('../Raw_MoleculeNet/qm7/raw/qm7.csv')\n",
    "smiles = qdf['smiles']\n",
    "\n",
    "three_ds = []\n",
    "failed_three_ds = []\n",
    "three_ds_path = 'data/from-smiles/gdb7-3d/'\n",
    "opt_three_ds = []\n",
    "failed_opt_three_ds = []\n",
    "opt_three_ds_path = 'data/from-smiles/gdb7-3d-opt/'\n",
    "two_ds = []\n",
    "two_ds_path = 'data/from-smiles/gdb7-2d/'\n",
    "sdf_file = 'gdb7.sdf'\n",
    "csv_file = 'gdb7.sdf.csv'\n",
    "\n",
    "for smile in tqdm(smiles):\n",
    "    try:\n",
    "        mol = Chem.MolFromSmiles(smile)\n",
    "        mol = Chem.AddHs(mol)\n",
    "        mol.SetProp('_Name', smile)\n",
    "        AllChem.Compute2DCoords(mol)\n",
    "\n",
    "        # Save a copy of the 2D molecule\n",
    "        two_ds.append(mol.__copy__())\n",
    "\n",
    "        if (AllChem.EmbedMolecule(mol, randomSeed = 0xf00d, maxAttempts = 100) == -1):\n",
    "            failed_three_ds.append(smile)\n",
    "            continue\n",
    "        # Save 3D molecule\n",
    "        three_ds.append(mol.__copy__())\n",
    "\n",
    "        if AllChem.MMFFOptimizeMolecule(mol) == -1:\n",
    "            failed_opt_three_ds.append(smile)\n",
    "            continue\n",
    "\n",
    "        # Save optimized 3D molecule\n",
    "        opt_three_ds.append(mol.__copy__())\n",
    "    except Exception as e:\n",
    "        print(e)\n",
    "        continue\n",
    "\n",
    "with Chem.SDWriter(two_ds_path + sdf_file) as writer:\n",
    "    for mol in two_ds:\n",
    "        writer.write(mol)\n",
    "qdf.drop(columns=['smiles'], inplace=False).to_csv(two_ds_path + csv_file, index=False)\n",
    "\n",
    "with Chem.SDWriter(three_ds_path + sdf_file) as writer:\n",
    "    for mol in three_ds:\n",
    "        writer.write(mol)\n",
    "qdf = qdf[~qdf['smiles'].isin(failed_three_ds)]\n",
    "qdf.drop(columns=['smiles'], inplace=False).to_csv(three_ds_path + csv_file, index=False)\n",
    "\n",
    "with Chem.SDWriter(opt_three_ds_path + sdf_file) as writer:\n",
    "    for mol in opt_three_ds:\n",
    "        writer.write(mol)\n",
    "qdf = qdf[~qdf['smiles'].isin(failed_opt_three_ds)]\n",
    "qdf.drop(columns=['smiles'], inplace=False).to_csv(opt_three_ds_path + csv_file, index=False)"
   ]
  },
  {
   "cell_type": "code",
   "execution_count": 5,
   "metadata": {},
   "outputs": [],
   "source": [
    "sdf = Chem.SDMolSupplier('data/from-smiles/gdb8-3d/gdb8.sdf')"
   ]
  },
  {
   "cell_type": "code",
   "execution_count": 22,
   "metadata": {},
   "outputs": [
    {
     "name": "stdout",
     "output_type": "stream",
     "text": [
      "-1\n",
      "-1\n"
     ]
    }
   ],
   "source": [
    "try:\n",
    "    mol = Chem.MolFromSmiles('[H]C([H])([H])C12C([H])([H])N(C1([H])[H])C2([H])[H]')\n",
    "    mol = Chem.AddHs(mol)\n",
    "    print(AllChem.EmbedMolecule(mol))\n",
    "    print(AllChem.EmbedMolecule(mol))\n",
    "except:\n",
    "    print('Failed to generate conformer for unrecognized molecules')"
   ]
  },
  {
   "cell_type": "code",
   "execution_count": null,
   "metadata": {},
   "outputs": [],
   "source": []
  }
 ],
 "metadata": {
  "kernelspec": {
   "display_name": "base",
   "language": "python",
   "name": "python3"
  },
  "language_info": {
   "codemirror_mode": {
    "name": "ipython",
    "version": 3
   },
   "file_extension": ".py",
   "mimetype": "text/x-python",
   "name": "python",
   "nbconvert_exporter": "python",
   "pygments_lexer": "ipython3",
   "version": "3.12.3"
  }
 },
 "nbformat": 4,
 "nbformat_minor": 2
}
