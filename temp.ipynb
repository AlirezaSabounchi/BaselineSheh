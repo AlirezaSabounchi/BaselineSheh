{
 "cells": [
  {
   "cell_type": "code",
   "execution_count": 1,
   "metadata": {},
   "outputs": [],
   "source": [
    "import pandas as pd\n",
    "import torch"
   ]
  },
  {
   "cell_type": "code",
   "execution_count": 3,
   "metadata": {},
   "outputs": [],
   "source": [
    "df=pd.read_csv(\"data/tox21/raw/tox21.csv\")\n",
    "smiles_list=list(df[\"smiles\"])\n",
    "target = df[['NR-AR', 'NR-AR-LBD', 'NR-AhR', 'NR-Aromatase', 'NR-ER', 'NR-ER-LBD',\n",
    "           'NR-PPAR-gamma', 'SR-ARE', 'SR-ATAD5', 'SR-HSE', 'SR-MMP', 'SR-p53']]\n",
    "\n",
    "target = target.replace(0, -1)  # convert 0 to -1\n",
    "target = target.fillna(0)  \n",
    "\n",
    "target = torch.tensor(target.values,dtype=torch.float)"
   ]
  },
  {
   "cell_type": "code",
   "execution_count": 4,
   "metadata": {},
   "outputs": [
    {
     "data": {
      "text/plain": [
       "torch.Size([7831, 12])"
      ]
     },
     "execution_count": 4,
     "metadata": {},
     "output_type": "execute_result"
    }
   ],
   "source": [
    "target.shape"
   ]
  },
  {
   "cell_type": "code",
   "execution_count": null,
   "metadata": {},
   "outputs": [],
   "source": []
  },
  {
   "cell_type": "code",
   "execution_count": 7,
   "metadata": {},
   "outputs": [
    {
     "data": {
      "text/plain": [
       "torch.Size([1, 12])"
      ]
     },
     "execution_count": 7,
     "metadata": {},
     "output_type": "execute_result"
    }
   ],
   "source": [
    "target[1].unsqueeze(0).shape"
   ]
  },
  {
   "cell_type": "code",
   "execution_count": 2,
   "metadata": {},
   "outputs": [],
   "source": [
    "import rdkit\n",
    "from rdkit import Chem\n",
    "from rdkit.Chem import AllChem\n",
    "from rdkit.Chem.rdchem import HybridizationType\n",
    "from rdkit.Chem.rdchem import BondType as BT\n",
    "from rdkit import RDLogger\n",
    "RDLogger.DisableLog('rdApp.*')\n",
    "from tqdm import tqdm\n"
   ]
  },
  {
   "cell_type": "code",
   "execution_count": 3,
   "metadata": {},
   "outputs": [],
   "source": [
    "df=pd.read_csv(\"data/toxcast/raw/toxcast.csv\")\n",
    "smiles_list=list(df[\"smiles\"])"
   ]
  },
  {
   "cell_type": "code",
   "execution_count": 6,
   "metadata": {},
   "outputs": [
    {
     "name": "stderr",
     "output_type": "stream",
     "text": [
      "  0%|          | 0/8597 [00:00<?, ?it/s]"
     ]
    },
    {
     "name": "stderr",
     "output_type": "stream",
     "text": [
      "100%|██████████| 8597/8597 [00:02<00:00, 3523.49it/s]\n"
     ]
    }
   ],
   "source": [
    "symbol_list=[]\n",
    "for i, smile in enumerate(tqdm(df[\"smiles\"])):\n",
    "    mol = AllChem.MolFromSmiles(smile)\n",
    "    if mol is None:\n",
    "        continue\n",
    "    for atom in mol.GetAtoms():\n",
    "        symb=atom.GetSymbol()\n",
    "        if symb not in symbol_list:\n",
    "            symbol_list.append(symb)"
   ]
  },
  {
   "cell_type": "code",
   "execution_count": 7,
   "metadata": {},
   "outputs": [],
   "source": [
    "strm=\"\"\n",
    "for i,symb in enumerate(symbol_list):\n",
    "    st=\"\\'\"+symb+\"\\'\"+\":\"+str(i)+\",\"\n",
    "    strm+=st"
   ]
  },
  {
   "cell_type": "code",
   "execution_count": 8,
   "metadata": {},
   "outputs": [
    {
     "data": {
      "text/plain": [
       "\"'O':0,'N':1,'C':2,'Cl':3,'Si':4,'Br':5,'Ba':6,'Nd':7,'Dy':8,'In':9,'P':10,'Sb':11,'Co':12,'S':13,'K':14,'Na':15,'B':16,'Ca':17,'Hg':18,'Ni':19,'Se':20,'Tl':21,'Cd':22,'F':23,'Fe':24,'Li':25,'Yb':26,'I':27,'Cr':28,'Sn':29,'Zn':30,'Cu':31,'Pb':32,'As':33,'Bi':34,'H':35,'Gd':36,'V':37,'Mn':38,'Au':39,'Ti':40,'Zr':41,'Mo':42,'Mg':43,'Eu':44,'Al':45,'Pt':46,'Sr':47,'Sc':48,'Ag':49,'Pd':50,'Be':51,'Ge':52,\""
      ]
     },
     "execution_count": 8,
     "metadata": {},
     "output_type": "execute_result"
    }
   ],
   "source": [
    "strm"
   ]
  },
  {
   "cell_type": "code",
   "execution_count": null,
   "metadata": {},
   "outputs": [],
   "source": []
  }
 ],
 "metadata": {
  "kernelspec": {
   "display_name": "pvd",
   "language": "python",
   "name": "python3"
  },
  "language_info": {
   "codemirror_mode": {
    "name": "ipython",
    "version": 3
   },
   "file_extension": ".py",
   "mimetype": "text/x-python",
   "name": "python",
   "nbconvert_exporter": "python",
   "pygments_lexer": "ipython3",
   "version": "3.9.10"
  },
  "orig_nbformat": 4
 },
 "nbformat": 4,
 "nbformat_minor": 2
}
