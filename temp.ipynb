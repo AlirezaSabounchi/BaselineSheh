{
 "cells": [
  {
   "cell_type": "code",
   "execution_count": 2,
   "metadata": {},
   "outputs": [],
   "source": [
    "import pandas as pd\n",
    "import torch"
   ]
  },
  {
   "cell_type": "code",
   "execution_count": 3,
   "metadata": {},
   "outputs": [],
   "source": [
    "df=pd.read_csv(\"data/tox21/raw/tox21.csv\")\n",
    "smiles_list=list(df[\"smiles\"])\n",
    "target = df[['NR-AR', 'NR-AR-LBD', 'NR-AhR', 'NR-Aromatase', 'NR-ER', 'NR-ER-LBD',\n",
    "           'NR-PPAR-gamma', 'SR-ARE', 'SR-ATAD5', 'SR-HSE', 'SR-MMP', 'SR-p53']]\n",
    "\n",
    "target = target.replace(0, -1)  # convert 0 to -1\n",
    "target = target.fillna(0)  \n",
    "\n",
    "target = torch.tensor(target.values,dtype=torch.float)"
   ]
  },
  {
   "cell_type": "code",
   "execution_count": 4,
   "metadata": {},
   "outputs": [
    {
     "data": {
      "text/plain": [
       "torch.Size([7831, 12])"
      ]
     },
     "execution_count": 4,
     "metadata": {},
     "output_type": "execute_result"
    }
   ],
   "source": [
    "target.shape"
   ]
  },
  {
   "cell_type": "code",
   "execution_count": null,
   "metadata": {},
   "outputs": [],
   "source": []
  },
  {
   "cell_type": "code",
   "execution_count": 7,
   "metadata": {},
   "outputs": [
    {
     "data": {
      "text/plain": [
       "torch.Size([1, 12])"
      ]
     },
     "execution_count": 7,
     "metadata": {},
     "output_type": "execute_result"
    }
   ],
   "source": [
    "target[1].unsqueeze(0).shape"
   ]
  },
  {
   "cell_type": "code",
   "execution_count": 17,
   "metadata": {},
   "outputs": [],
   "source": [
    "import rdkit\n",
    "from rdkit import Chem\n",
    "from rdkit.Chem import AllChem\n",
    "from rdkit.Chem.rdchem import HybridizationType\n",
    "from rdkit.Chem.rdchem import BondType as BT\n",
    "from rdkit import RDLogger\n",
    "RDLogger.DisableLog('rdApp.*')\n",
    "from tqdm import tqdm\n"
   ]
  },
  {
   "cell_type": "code",
   "execution_count": 18,
   "metadata": {},
   "outputs": [
    {
     "name": "stderr",
     "output_type": "stream",
     "text": [
      "100%|██████████| 7831/7831 [00:02<00:00, 3114.94it/s]\n"
     ]
    }
   ],
   "source": [
    "symbol_list=[]\n",
    "for i, smile in enumerate(tqdm(df[\"smiles\"])):\n",
    "    mol = AllChem.MolFromSmiles(smile)\n",
    "    for atom in mol.GetAtoms():\n",
    "        symb=atom.GetSymbol()\n",
    "        if symb not in symbol_list:\n",
    "            symbol_list.append(symb)"
   ]
  },
  {
   "cell_type": "code",
   "execution_count": 26,
   "metadata": {},
   "outputs": [],
   "source": [
    "strm=\"\"\n",
    "for i,symb in enumerate(symbol_list):\n",
    "    st=\"\\'\"+symb+\"\\'\"+\":\"+str(i)+\",\"\n",
    "    strm+=st"
   ]
  },
  {
   "cell_type": "code",
   "execution_count": 27,
   "metadata": {},
   "outputs": [
    {
     "data": {
      "text/plain": [
       "\"'C':0,'O':1,'N':2,'S':3,'P':4,'Cl':5,'I':6,'Zn':7,'F':8,'Ca':9,'As':10,'Br':11,'B':12,'H':13,'K':14,'Si':15,'Cu':16,'Mg':17,'Hg':18,'Cr':19,'Zr':20,'Sn':21,'Na':22,'Ba':23,'Au':24,'Pd':25,'Tl':26,'Fe':27,'Al':28,'Gd':29,'Ag':30,'Mo':31,'V':32,'Nd':33,'Co':34,'Yb':35,'Pb':36,'Sb':37,'In':38,'Li':39,'Ni':40,'Bi':41,'Cd':42,'Ti':43,'Se':44,'Dy':45,'Mn':46,'Sr':47,'Be':48,'Pt':49,'Ge':50,\""
      ]
     },
     "execution_count": 27,
     "metadata": {},
     "output_type": "execute_result"
    }
   ],
   "source": [
    "strm"
   ]
  },
  {
   "cell_type": "code",
   "execution_count": null,
   "metadata": {},
   "outputs": [],
   "source": []
  }
 ],
 "metadata": {
  "kernelspec": {
   "display_name": "pvd",
   "language": "python",
   "name": "python3"
  },
  "language_info": {
   "codemirror_mode": {
    "name": "ipython",
    "version": 3
   },
   "file_extension": ".py",
   "mimetype": "text/x-python",
   "name": "python",
   "nbconvert_exporter": "python",
   "pygments_lexer": "ipython3",
   "version": "3.9.10"
  },
  "orig_nbformat": 4
 },
 "nbformat": 4,
 "nbformat_minor": 2
}
