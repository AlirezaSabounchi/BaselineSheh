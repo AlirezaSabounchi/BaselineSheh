{
 "cells": [
  {
   "cell_type": "code",
   "execution_count": 3,
   "metadata": {},
   "outputs": [],
   "source": [
    "import pandas as pd\n",
    "import torch"
   ]
  },
  {
   "cell_type": "code",
   "execution_count": 4,
   "metadata": {},
   "outputs": [],
   "source": [
    "import numpy as np"
   ]
  },
  {
   "cell_type": "code",
   "execution_count": 31,
   "metadata": {},
   "outputs": [],
   "source": [
    "splits=np.load(\"data/splits.npz\")\n",
    "splits=dict(splits)"
   ]
  },
  {
   "cell_type": "code",
   "execution_count": 32,
   "metadata": {},
   "outputs": [
    {
     "data": {
      "text/plain": [
       "568"
      ]
     },
     "execution_count": 32,
     "metadata": {},
     "output_type": "execute_result"
    }
   ],
   "source": [
    "splits[\"idx_test\"][19]"
   ]
  },
  {
   "cell_type": "code",
   "execution_count": 3,
   "metadata": {},
   "outputs": [],
   "source": [
    "df=pd.read_csv(\"data/tox21/raw/tox21.csv\")\n",
    "smiles_list=list(df[\"smiles\"])\n",
    "target = df[['NR-AR', 'NR-AR-LBD', 'NR-AhR', 'NR-Aromatase', 'NR-ER', 'NR-ER-LBD',\n",
    "           'NR-PPAR-gamma', 'SR-ARE', 'SR-ATAD5', 'SR-HSE', 'SR-MMP', 'SR-p53']]\n",
    "\n",
    "target = target.replace(0, -1)  # convert 0 to -1\n",
    "target = target.fillna(0)  \n",
    "\n",
    "target = torch.tensor(target.values,dtype=torch.float)"
   ]
  },
  {
   "cell_type": "code",
   "execution_count": 4,
   "metadata": {},
   "outputs": [
    {
     "data": {
      "text/plain": [
       "torch.Size([7831, 12])"
      ]
     },
     "execution_count": 4,
     "metadata": {},
     "output_type": "execute_result"
    }
   ],
   "source": [
    "target.shape"
   ]
  },
  {
   "cell_type": "code",
   "execution_count": null,
   "metadata": {},
   "outputs": [],
   "source": []
  },
  {
   "cell_type": "code",
   "execution_count": 7,
   "metadata": {},
   "outputs": [
    {
     "data": {
      "text/plain": [
       "torch.Size([1, 12])"
      ]
     },
     "execution_count": 7,
     "metadata": {},
     "output_type": "execute_result"
    }
   ],
   "source": [
    "target[1].unsqueeze(0).shape"
   ]
  },
  {
   "cell_type": "code",
   "execution_count": 1,
   "metadata": {},
   "outputs": [],
   "source": [
    "import rdkit\n",
    "from rdkit import Chem\n",
    "from rdkit.Chem import AllChem\n",
    "from rdkit.Chem.rdchem import HybridizationType\n",
    "from rdkit.Chem.rdchem import BondType as BT\n",
    "from rdkit import RDLogger\n",
    "RDLogger.DisableLog('rdApp.*')\n",
    "from tqdm import tqdm\n",
    "from rdkit.Chem import Draw\n",
    "import py3Dmol\n",
    "from rdkit.Chem.Draw import IPythonConsole\n"
   ]
  },
  {
   "cell_type": "code",
   "execution_count": 8,
   "metadata": {},
   "outputs": [],
   "source": [
    "df=pd.read_csv(\"data/bbbp/raw/bbbp.csv\")\n",
    "smiles_list=list(df[\"smiles\"])"
   ]
  },
  {
   "cell_type": "code",
   "execution_count": 87,
   "metadata": {},
   "outputs": [],
   "source": [
    "def get_MMFF_mol(self,mol,numConfs=1):\n",
    "        try:\n",
    "            new_mol = Chem.AddHs(mol)\n",
    "            res = AllChem.EmbedMultipleConfs(new_mol, numConfs=numConfs,maxAttempts=1000)\n",
    "            res = AllChem.MMFFOptimizeMoleculeConfs(new_mol)\n",
    "        except:\n",
    "            return None\n",
    "        return new_mol"
   ]
  },
  {
   "cell_type": "code",
   "execution_count": 47,
   "metadata": {},
   "outputs": [],
   "source": [
    "from torchmdnet.datasets import BBBP\n",
    "from torch.utils.data import Subset"
   ]
  },
  {
   "cell_type": "code",
   "execution_count": 50,
   "metadata": {},
   "outputs": [],
   "source": [
    "dataset = BBBP(\"data/bbbp\", \"homo\",num_confs=1)\n",
    "subset_dataset=Subset(dataset, splits[\"idx_test\"])\n"
   ]
  },
  {
   "cell_type": "code",
   "execution_count": 51,
   "metadata": {},
   "outputs": [
    {
     "data": {
      "text/plain": [
       "<torch.utils.data.dataset.Subset at 0x22bf4ffc2e0>"
      ]
     },
     "execution_count": 51,
     "metadata": {},
     "output_type": "execute_result"
    }
   ],
   "source": [
    "subset_dataset"
   ]
  },
  {
   "cell_type": "code",
   "execution_count": 30,
   "metadata": {},
   "outputs": [
    {
     "data": {
      "text/plain": [
       "BBBP(2)"
      ]
     },
     "execution_count": 30,
     "metadata": {},
     "output_type": "execute_result"
    }
   ],
   "source": [
    "dataset[[10,12]]"
   ]
  },
  {
   "cell_type": "code",
   "execution_count": 5,
   "metadata": {},
   "outputs": [],
   "source": [
    "data=torch.load(\"data/bbbp/processed/data_v3.pt\")"
   ]
  },
  {
   "cell_type": "code",
   "execution_count": 43,
   "metadata": {},
   "outputs": [
    {
     "data": {
      "text/plain": [
       "'0-NC(N)=NCC1COC2(CCCCC2)O1'"
      ]
     },
     "execution_count": 43,
     "metadata": {},
     "output_type": "execute_result"
    }
   ],
   "source": [
    "index=splits[\"idx_test\"][71]\n",
    "data[0][\"name\"][index]"
   ]
  },
  {
   "cell_type": "code",
   "execution_count": 44,
   "metadata": {},
   "outputs": [
    {
     "data": {
      "application/3dmoljs_load.v0": "<div id=\"3dmolviewer_1693660042385456\"  style=\"position: relative; width: 400px; height: 400px;\">\n        <p id=\"3dmolwarning_1693660042385456\" style=\"background-color:#ffcccc;color:black\">You appear to be running in JupyterLab (or JavaScript failed to load for some other reason).  You need to install the 3dmol extension: <br>\n        <tt>jupyter labextension install jupyterlab_3dmol</tt></p>\n        </div>\n<script>\n\nvar loadScriptAsync = function(uri){\n  return new Promise((resolve, reject) => {\n    //this is to ignore the existence of requirejs amd\n    var savedexports, savedmodule;\n    if (typeof exports !== 'undefined') savedexports = exports;\n    else exports = {}\n    if (typeof module !== 'undefined') savedmodule = module;\n    else module = {}\n\n    var tag = document.createElement('script');\n    tag.src = uri;\n    tag.async = true;\n    tag.onload = () => {\n        exports = savedexports;\n        module = savedmodule;\n        resolve();\n    };\n  var firstScriptTag = document.getElementsByTagName('script')[0];\n  firstScriptTag.parentNode.insertBefore(tag, firstScriptTag);\n});\n};\n\nif(typeof $3Dmolpromise === 'undefined') {\n$3Dmolpromise = null;\n  $3Dmolpromise = loadScriptAsync('https://cdnjs.cloudflare.com/ajax/libs/3Dmol/2.0.3/3Dmol-min.js');\n}\n\nvar viewer_1693660042385456 = null;\nvar warn = document.getElementById(\"3dmolwarning_1693660042385456\");\nif(warn) {\n    warn.parentNode.removeChild(warn);\n}\n$3Dmolpromise.then(function() {\nviewer_1693660042385456 = $3Dmol.createViewer(document.getElementById(\"3dmolviewer_1693660042385456\"),{backgroundColor:\"white\"});\nviewer_1693660042385456.zoomTo();\n\tviewer_1693660042385456.removeAllModels();\n\tviewer_1693660042385456.addModel(\"\\n     RDKit          3D\\n\\n 34 35  0  0  0  0  0  0  0  0999 V2000\\n    4.9314    1.2574    0.0782 N   0  0  0  0  0  0  0  0  0  0  0  0\\n    3.9749    0.3077   -0.0002 C   0  0  0  0  0  0  0  0  0  0  0  0\\n    4.2448   -0.5366   -1.0193 N   0  0  0  0  0  0  0  0  0  0  0  0\\n    3.0022    0.3178    0.8277 N   0  0  0  0  0  0  0  0  0  0  0  0\\n    1.9583   -0.7041    0.6940 C   0  0  0  0  0  0  0  0  0  0  0  0\\n    0.7609   -0.3177    1.5796 C   0  0  0  0  0  0  0  0  0  0  0  0\\n   -0.2315   -1.4502    1.7120 C   0  0  0  0  0  0  0  0  0  0  0  0\\n   -1.0450   -1.3276    0.5462 O   0  0  0  0  0  0  0  0  0  0  0  0\\n   -1.1099    0.0885    0.3063 C   0  0  0  0  0  0  0  0  0  0  0  0\\n   -2.4153    0.6528    0.8860 C   0  0  0  0  0  0  0  0  0  0  0  0\\n   -3.6468    0.1291    0.1502 C   0  0  0  0  0  0  0  0  0  0  0  0\\n   -3.5542    0.3903   -1.3502 C   0  0  0  0  0  0  0  0  0  0  0  0\\n   -2.2635   -0.1679   -1.9424 C   0  0  0  0  0  0  0  0  0  0  0  0\\n   -1.0329    0.3519   -1.2009 C   0  0  0  0  0  0  0  0  0  0  0  0\\n   -0.0091    0.7300    0.9664 O   0  0  0  0  0  0  0  0  0  0  0  0\\n    5.1210    1.6763   -0.8243 H   0  0  0  0  0  0  0  0  0  0  0  0\\n    4.6358    1.9730    0.7367 H   0  0  0  0  0  0  0  0  0  0  0  0\\n    3.7274   -1.4053   -0.9899 H   0  0  0  0  0  0  0  0  0  0  0  0\\n    5.2385   -0.7102   -1.1170 H   0  0  0  0  0  0  0  0  0  0  0  0\\n    1.6429   -0.7961   -0.3504 H   0  0  0  0  0  0  0  0  0  0  0  0\\n    2.3660   -1.6650    1.0292 H   0  0  0  0  0  0  0  0  0  0  0  0\\n    1.1126    0.0190    2.5608 H   0  0  0  0  0  0  0  0  0  0  0  0\\n   -0.8732   -1.3155    2.5899 H   0  0  0  0  0  0  0  0  0  0  0  0\\n    0.2215   -2.4440    1.7617 H   0  0  0  0  0  0  0  0  0  0  0  0\\n   -2.5015    0.3966    1.9489 H   0  0  0  0  0  0  0  0  0  0  0  0\\n   -2.3951    1.7494    0.8393 H   0  0  0  0  0  0  0  0  0  0  0  0\\n   -3.7547   -0.9476    0.3290 H   0  0  0  0  0  0  0  0  0  0  0  0\\n   -4.5464    0.6091    0.5519 H   0  0  0  0  0  0  0  0  0  0  0  0\\n   -3.6011    1.4707   -1.5347 H   0  0  0  0  0  0  0  0  0  0  0  0\\n   -4.4166   -0.0574   -1.8568 H   0  0  0  0  0  0  0  0  0  0  0  0\\n   -2.2853   -1.2637   -1.8992 H   0  0  0  0  0  0  0  0  0  0  0  0\\n   -2.1966    0.1059   -3.0015 H   0  0  0  0  0  0  0  0  0  0  0  0\\n   -0.9173    1.4281   -1.3825 H   0  0  0  0  0  0  0  0  0  0  0  0\\n   -0.1425   -0.1262   -1.6245 H   0  0  0  0  0  0  0  0  0  0  0  0\\n  1  2  1  0\\n  2  3  1  0\\n  2  4  2  3\\n  4  5  1  0\\n  5  6  1  0\\n  6  7  1  0\\n  7  8  1  0\\n  8  9  1  0\\n  9 10  1  0\\n 10 11  1  0\\n 11 12  1  0\\n 12 13  1  0\\n 13 14  1  0\\n  9 15  1  0\\n 15  6  1  0\\n 14  9  1  0\\n  1 16  1  0\\n  1 17  1  0\\n  3 18  1  0\\n  3 19  1  0\\n  5 20  1  0\\n  5 21  1  0\\n  6 22  1  0\\n  7 23  1  0\\n  7 24  1  0\\n 10 25  1  0\\n 10 26  1  0\\n 11 27  1  0\\n 11 28  1  0\\n 12 29  1  0\\n 12 30  1  0\\n 13 31  1  0\\n 13 32  1  0\\n 14 33  1  0\\n 14 34  1  0\\nM  END\\n\",\"sdf\");\n\tviewer_1693660042385456.setStyle({\"stick\": {}});\n\tviewer_1693660042385456.setBackgroundColor(\"0xeeeeee\");\n\tviewer_1693660042385456.zoomTo();\nviewer_1693660042385456.render();\n});\n</script>",
      "text/html": [
       "<div id=\"3dmolviewer_1693660042385456\"  style=\"position: relative; width: 400px; height: 400px;\">\n",
       "        <p id=\"3dmolwarning_1693660042385456\" style=\"background-color:#ffcccc;color:black\">You appear to be running in JupyterLab (or JavaScript failed to load for some other reason).  You need to install the 3dmol extension: <br>\n",
       "        <tt>jupyter labextension install jupyterlab_3dmol</tt></p>\n",
       "        </div>\n",
       "<script>\n",
       "\n",
       "var loadScriptAsync = function(uri){\n",
       "  return new Promise((resolve, reject) => {\n",
       "    //this is to ignore the existence of requirejs amd\n",
       "    var savedexports, savedmodule;\n",
       "    if (typeof exports !== 'undefined') savedexports = exports;\n",
       "    else exports = {}\n",
       "    if (typeof module !== 'undefined') savedmodule = module;\n",
       "    else module = {}\n",
       "\n",
       "    var tag = document.createElement('script');\n",
       "    tag.src = uri;\n",
       "    tag.async = true;\n",
       "    tag.onload = () => {\n",
       "        exports = savedexports;\n",
       "        module = savedmodule;\n",
       "        resolve();\n",
       "    };\n",
       "  var firstScriptTag = document.getElementsByTagName('script')[0];\n",
       "  firstScriptTag.parentNode.insertBefore(tag, firstScriptTag);\n",
       "});\n",
       "};\n",
       "\n",
       "if(typeof $3Dmolpromise === 'undefined') {\n",
       "$3Dmolpromise = null;\n",
       "  $3Dmolpromise = loadScriptAsync('https://cdnjs.cloudflare.com/ajax/libs/3Dmol/2.0.3/3Dmol-min.js');\n",
       "}\n",
       "\n",
       "var viewer_1693660042385456 = null;\n",
       "var warn = document.getElementById(\"3dmolwarning_1693660042385456\");\n",
       "if(warn) {\n",
       "    warn.parentNode.removeChild(warn);\n",
       "}\n",
       "$3Dmolpromise.then(function() {\n",
       "viewer_1693660042385456 = $3Dmol.createViewer(document.getElementById(\"3dmolviewer_1693660042385456\"),{backgroundColor:\"white\"});\n",
       "viewer_1693660042385456.zoomTo();\n",
       "\tviewer_1693660042385456.removeAllModels();\n",
       "\tviewer_1693660042385456.addModel(\"\\n     RDKit          3D\\n\\n 34 35  0  0  0  0  0  0  0  0999 V2000\\n    4.9314    1.2574    0.0782 N   0  0  0  0  0  0  0  0  0  0  0  0\\n    3.9749    0.3077   -0.0002 C   0  0  0  0  0  0  0  0  0  0  0  0\\n    4.2448   -0.5366   -1.0193 N   0  0  0  0  0  0  0  0  0  0  0  0\\n    3.0022    0.3178    0.8277 N   0  0  0  0  0  0  0  0  0  0  0  0\\n    1.9583   -0.7041    0.6940 C   0  0  0  0  0  0  0  0  0  0  0  0\\n    0.7609   -0.3177    1.5796 C   0  0  0  0  0  0  0  0  0  0  0  0\\n   -0.2315   -1.4502    1.7120 C   0  0  0  0  0  0  0  0  0  0  0  0\\n   -1.0450   -1.3276    0.5462 O   0  0  0  0  0  0  0  0  0  0  0  0\\n   -1.1099    0.0885    0.3063 C   0  0  0  0  0  0  0  0  0  0  0  0\\n   -2.4153    0.6528    0.8860 C   0  0  0  0  0  0  0  0  0  0  0  0\\n   -3.6468    0.1291    0.1502 C   0  0  0  0  0  0  0  0  0  0  0  0\\n   -3.5542    0.3903   -1.3502 C   0  0  0  0  0  0  0  0  0  0  0  0\\n   -2.2635   -0.1679   -1.9424 C   0  0  0  0  0  0  0  0  0  0  0  0\\n   -1.0329    0.3519   -1.2009 C   0  0  0  0  0  0  0  0  0  0  0  0\\n   -0.0091    0.7300    0.9664 O   0  0  0  0  0  0  0  0  0  0  0  0\\n    5.1210    1.6763   -0.8243 H   0  0  0  0  0  0  0  0  0  0  0  0\\n    4.6358    1.9730    0.7367 H   0  0  0  0  0  0  0  0  0  0  0  0\\n    3.7274   -1.4053   -0.9899 H   0  0  0  0  0  0  0  0  0  0  0  0\\n    5.2385   -0.7102   -1.1170 H   0  0  0  0  0  0  0  0  0  0  0  0\\n    1.6429   -0.7961   -0.3504 H   0  0  0  0  0  0  0  0  0  0  0  0\\n    2.3660   -1.6650    1.0292 H   0  0  0  0  0  0  0  0  0  0  0  0\\n    1.1126    0.0190    2.5608 H   0  0  0  0  0  0  0  0  0  0  0  0\\n   -0.8732   -1.3155    2.5899 H   0  0  0  0  0  0  0  0  0  0  0  0\\n    0.2215   -2.4440    1.7617 H   0  0  0  0  0  0  0  0  0  0  0  0\\n   -2.5015    0.3966    1.9489 H   0  0  0  0  0  0  0  0  0  0  0  0\\n   -2.3951    1.7494    0.8393 H   0  0  0  0  0  0  0  0  0  0  0  0\\n   -3.7547   -0.9476    0.3290 H   0  0  0  0  0  0  0  0  0  0  0  0\\n   -4.5464    0.6091    0.5519 H   0  0  0  0  0  0  0  0  0  0  0  0\\n   -3.6011    1.4707   -1.5347 H   0  0  0  0  0  0  0  0  0  0  0  0\\n   -4.4166   -0.0574   -1.8568 H   0  0  0  0  0  0  0  0  0  0  0  0\\n   -2.2853   -1.2637   -1.8992 H   0  0  0  0  0  0  0  0  0  0  0  0\\n   -2.1966    0.1059   -3.0015 H   0  0  0  0  0  0  0  0  0  0  0  0\\n   -0.9173    1.4281   -1.3825 H   0  0  0  0  0  0  0  0  0  0  0  0\\n   -0.1425   -0.1262   -1.6245 H   0  0  0  0  0  0  0  0  0  0  0  0\\n  1  2  1  0\\n  2  3  1  0\\n  2  4  2  3\\n  4  5  1  0\\n  5  6  1  0\\n  6  7  1  0\\n  7  8  1  0\\n  8  9  1  0\\n  9 10  1  0\\n 10 11  1  0\\n 11 12  1  0\\n 12 13  1  0\\n 13 14  1  0\\n  9 15  1  0\\n 15  6  1  0\\n 14  9  1  0\\n  1 16  1  0\\n  1 17  1  0\\n  3 18  1  0\\n  3 19  1  0\\n  5 20  1  0\\n  5 21  1  0\\n  6 22  1  0\\n  7 23  1  0\\n  7 24  1  0\\n 10 25  1  0\\n 10 26  1  0\\n 11 27  1  0\\n 11 28  1  0\\n 12 29  1  0\\n 12 30  1  0\\n 13 31  1  0\\n 13 32  1  0\\n 14 33  1  0\\n 14 34  1  0\\nM  END\\n\",\"sdf\");\n",
       "\tviewer_1693660042385456.setStyle({\"stick\": {}});\n",
       "\tviewer_1693660042385456.setBackgroundColor(\"0xeeeeee\");\n",
       "\tviewer_1693660042385456.zoomTo();\n",
       "viewer_1693660042385456.render();\n",
       "});\n",
       "</script>"
      ]
     },
     "metadata": {},
     "output_type": "display_data"
    },
    {
     "name": "stdout",
     "output_type": "stream",
     "text": [
      "torch.Size([34, 3])\n",
      "torch.Size([34, 3])\n"
     ]
    }
   ],
   "source": [
    "smiles=data[0][\"name\"][index][2:]\n",
    "mol = AllChem.MolFromSmiles(smiles)\n",
    "#display(Draw.MolToImage(mol))\n",
    "mol = Chem.AddHs(mol)\n",
    "res = AllChem.EmbedMultipleConfs(mol, numConfs=1)\n",
    "res = AllChem.MMFFOptimizeMoleculeConfs(mol)\n",
    "Draw.IPythonConsole.drawMol3D(mol)\n",
    "print(torch.tensor(mol.GetConformer().GetPositions()).shape)\n",
    "print(torch.unique(torch.tensor(mol.GetConformer().GetPositions()), dim=0).shape)"
   ]
  },
  {
   "cell_type": "code",
   "execution_count": null,
   "metadata": {},
   "outputs": [],
   "source": [
    "bad mols = [[ 19]\n",
    " [ 59]\n",
    " [ 71]\n",
    " [288]\n",
    " [342]\n",
    " [390]]"
   ]
  },
  {
   "cell_type": "code",
   "execution_count": 10,
   "metadata": {},
   "outputs": [
    {
     "name": "stderr",
     "output_type": "stream",
     "text": [
      "  0%|          | 0/2050 [00:00<?, ?it/s]"
     ]
    },
    {
     "name": "stderr",
     "output_type": "stream",
     "text": [
      "100%|██████████| 2050/2050 [00:00<00:00, 2272.44it/s]\n"
     ]
    }
   ],
   "source": [
    "symbol_list=[]\n",
    "for i, smile in enumerate(tqdm(df[\"smiles\"])):\n",
    "    mol = AllChem.MolFromSmiles(smile)\n",
    "    if mol is None:\n",
    "        continue\n",
    "    for atom in mol.GetAtoms():\n",
    "        symb=atom.GetSymbol()\n",
    "        if symb not in symbol_list:\n",
    "            symbol_list.append(symb)"
   ]
  },
  {
   "cell_type": "code",
   "execution_count": 11,
   "metadata": {},
   "outputs": [],
   "source": [
    "strm=\"\"\n",
    "for i,symb in enumerate(symbol_list):\n",
    "    st=\"\\'\"+symb+\"\\'\"+\":\"+str(i)+\",\"\n",
    "    strm+=st"
   ]
  },
  {
   "cell_type": "code",
   "execution_count": 12,
   "metadata": {},
   "outputs": [
    {
     "data": {
      "text/plain": [
       "\"'Cl':0,'C':1,'N':2,'O':3,'F':4,'S':5,'Br':6,'I':7,'H':8,'Na':9,'P':10,'Ca':11,'B':12,\""
      ]
     },
     "execution_count": 12,
     "metadata": {},
     "output_type": "execute_result"
    }
   ],
   "source": [
    "strm"
   ]
  },
  {
   "cell_type": "code",
   "execution_count": null,
   "metadata": {},
   "outputs": [],
   "source": []
  }
 ],
 "metadata": {
  "kernelspec": {
   "display_name": "pvd",
   "language": "python",
   "name": "python3"
  },
  "language_info": {
   "codemirror_mode": {
    "name": "ipython",
    "version": 3
   },
   "file_extension": ".py",
   "mimetype": "text/x-python",
   "name": "python",
   "nbconvert_exporter": "python",
   "pygments_lexer": "ipython3",
   "version": "3.9.10"
  },
  "orig_nbformat": 4
 },
 "nbformat": 4,
 "nbformat_minor": 2
}
