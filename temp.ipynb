{
 "cells": [
  {
   "cell_type": "code",
   "execution_count": 3,
   "metadata": {},
   "outputs": [],
   "source": [
    "import pandas as pd\n",
    "import torch"
   ]
  },
  {
   "cell_type": "code",
   "execution_count": 4,
   "metadata": {},
   "outputs": [],
   "source": [
    "import numpy as np"
   ]
  },
  {
   "cell_type": "code",
   "execution_count": 52,
   "metadata": {},
   "outputs": [],
   "source": [
    "splits=np.load(\"data/splits.npz\")\n",
    "splits=dict(splits)"
   ]
  },
  {
   "cell_type": "code",
   "execution_count": 53,
   "metadata": {},
   "outputs": [
    {
     "data": {
      "text/plain": [
       "1043"
      ]
     },
     "execution_count": 53,
     "metadata": {},
     "output_type": "execute_result"
    }
   ],
   "source": [
    "splits[\"idx_val\"][19]"
   ]
  },
  {
   "cell_type": "code",
   "execution_count": 3,
   "metadata": {},
   "outputs": [],
   "source": [
    "df=pd.read_csv(\"data/tox21/raw/tox21.csv\")\n",
    "smiles_list=list(df[\"smiles\"])\n",
    "target = df[['NR-AR', 'NR-AR-LBD', 'NR-AhR', 'NR-Aromatase', 'NR-ER', 'NR-ER-LBD',\n",
    "           'NR-PPAR-gamma', 'SR-ARE', 'SR-ATAD5', 'SR-HSE', 'SR-MMP', 'SR-p53']]\n",
    "\n",
    "target = target.replace(0, -1)  # convert 0 to -1\n",
    "target = target.fillna(0)  \n",
    "\n",
    "target = torch.tensor(target.values,dtype=torch.float)"
   ]
  },
  {
   "cell_type": "code",
   "execution_count": 4,
   "metadata": {},
   "outputs": [
    {
     "data": {
      "text/plain": [
       "torch.Size([7831, 12])"
      ]
     },
     "execution_count": 4,
     "metadata": {},
     "output_type": "execute_result"
    }
   ],
   "source": [
    "target.shape"
   ]
  },
  {
   "cell_type": "code",
   "execution_count": null,
   "metadata": {},
   "outputs": [],
   "source": []
  },
  {
   "cell_type": "code",
   "execution_count": 7,
   "metadata": {},
   "outputs": [
    {
     "data": {
      "text/plain": [
       "torch.Size([1, 12])"
      ]
     },
     "execution_count": 7,
     "metadata": {},
     "output_type": "execute_result"
    }
   ],
   "source": [
    "target[1].unsqueeze(0).shape"
   ]
  },
  {
   "cell_type": "code",
   "execution_count": 1,
   "metadata": {},
   "outputs": [],
   "source": [
    "import rdkit\n",
    "from rdkit import Chem\n",
    "from rdkit.Chem import AllChem\n",
    "from rdkit.Chem.rdchem import HybridizationType\n",
    "from rdkit.Chem.rdchem import BondType as BT\n",
    "from rdkit import RDLogger\n",
    "RDLogger.DisableLog('rdApp.*')\n",
    "from tqdm import tqdm\n",
    "from rdkit.Chem import Draw\n",
    "import py3Dmol\n",
    "from rdkit.Chem.Draw import IPythonConsole\n"
   ]
  },
  {
   "cell_type": "code",
   "execution_count": 8,
   "metadata": {},
   "outputs": [],
   "source": [
    "df=pd.read_csv(\"data/bbbp/raw/bbbp.csv\")\n",
    "smiles_list=list(df[\"smiles\"])"
   ]
  },
  {
   "cell_type": "code",
   "execution_count": 87,
   "metadata": {},
   "outputs": [],
   "source": [
    "def get_MMFF_mol(self,mol,numConfs=1):\n",
    "        try:\n",
    "            new_mol = Chem.AddHs(mol)\n",
    "            res = AllChem.EmbedMultipleConfs(new_mol, numConfs=numConfs,maxAttempts=1000)\n",
    "            res = AllChem.MMFFOptimizeMoleculeConfs(new_mol)\n",
    "        except:\n",
    "            return None\n",
    "        return new_mol"
   ]
  },
  {
   "cell_type": "code",
   "execution_count": 47,
   "metadata": {},
   "outputs": [],
   "source": [
    "from torchmdnet.datasets import BBBP\n",
    "from torch.utils.data import Subset"
   ]
  },
  {
   "cell_type": "code",
   "execution_count": 50,
   "metadata": {},
   "outputs": [],
   "source": [
    "dataset = BBBP(\"data/bbbp\", \"homo\",num_confs=1)\n",
    "subset_dataset=Subset(dataset, splits[\"idx_test\"])\n"
   ]
  },
  {
   "cell_type": "code",
   "execution_count": 51,
   "metadata": {},
   "outputs": [
    {
     "data": {
      "text/plain": [
       "<torch.utils.data.dataset.Subset at 0x22bf4ffc2e0>"
      ]
     },
     "execution_count": 51,
     "metadata": {},
     "output_type": "execute_result"
    }
   ],
   "source": [
    "subset_dataset"
   ]
  },
  {
   "cell_type": "code",
   "execution_count": 30,
   "metadata": {},
   "outputs": [
    {
     "data": {
      "text/plain": [
       "BBBP(2)"
      ]
     },
     "execution_count": 30,
     "metadata": {},
     "output_type": "execute_result"
    }
   ],
   "source": [
    "dataset[[10,12]]"
   ]
  },
  {
   "cell_type": "code",
   "execution_count": 5,
   "metadata": {},
   "outputs": [],
   "source": [
    "data=torch.load(\"data/bbbp/processed/data_v3.pt\")"
   ]
  },
  {
   "cell_type": "code",
   "execution_count": 77,
   "metadata": {},
   "outputs": [
    {
     "data": {
      "text/plain": [
       "array([1084, 1083, 1082, 1081, 1079, 1075, 1074, 1073, 1072, 1071, 1067,\n",
       "       1064, 1063, 1062, 1057, 1056, 1054, 1050, 1046, 1043, 1035, 1034,\n",
       "       1033, 1031, 1030, 1029, 1028, 1027, 1025, 1024, 1021, 1019, 1018,\n",
       "       1016, 1015, 1011, 1009, 1008, 1007, 1006, 1005, 1004, 1003, 1002,\n",
       "       1001, 1000,  994,  993,  990,  989,  988,  985,  984,  978,  975,\n",
       "        974,  972,  967,  966,  965,  960,  959,  958,  957,  954,  953,\n",
       "        948,  947,  941,  939,  936,  934,  933,  932,  929,  925,  923,\n",
       "        921,  920,  919,  918,  917,  915,  914,  912,  910,  909,  908,\n",
       "        907,  906,  905,  904,  903,  902,  901,  899,  897,  896,  895,\n",
       "        894,  891,  889,  886,  885,  884,  883,  880,  877,  876,  875,\n",
       "        874,  873,  872,  868,  865,  864,  861,  860,  859,  858,  856,\n",
       "        854,  849,  848,  846,  844,  843,  842,  839,  834,  831,  828,\n",
       "        827,  826,  825,  823,  822,  819,  816,  815,  814,  813,  812,\n",
       "        811,  810,  809,  808,  805,  799,  798,  797,  791,  790,  789,\n",
       "        787,  786,  781,  780,  779,  776,  774,  773,  770,  769,  768,\n",
       "        767,  764,  761,  758,  755,  751,  749,  747,  739,  738,  735,\n",
       "        734,  726,  725,  724,  720,  719,  718,  716,  715,  713,  712,\n",
       "        710,  704,  702,  698,  693,  689,  675,  674,  673,  668,  663,\n",
       "        662,  661,  653,  652,  644], dtype=int64)"
      ]
     },
     "execution_count": 77,
     "metadata": {},
     "output_type": "execute_result"
    }
   ],
   "source": [
    "splits[\"idx_val\"]"
   ]
  },
  {
   "cell_type": "code",
   "execution_count": 76,
   "metadata": {},
   "outputs": [
    {
     "ename": "IndexError",
     "evalue": "index 288 is out of bounds for axis 0 with size 203",
     "output_type": "error",
     "traceback": [
      "\u001b[1;31m---------------------------------------------------------------------------\u001b[0m",
      "\u001b[1;31mIndexError\u001b[0m                                Traceback (most recent call last)",
      "\u001b[1;32mc:\\Users\\aminr\\Documents\\Thesis\\Baselines\\pre-training-via-denoising-main_3\\pre-training-via-denoising-main\\temp.ipynb Cell 17\u001b[0m in \u001b[0;36m<cell line: 1>\u001b[1;34m()\u001b[0m\n\u001b[1;32m----> <a href='vscode-notebook-cell:/c%3A/Users/aminr/Documents/Thesis/Baselines/pre-training-via-denoising-main_3/pre-training-via-denoising-main/temp.ipynb#X30sZmlsZQ%3D%3D?line=0'>1</a>\u001b[0m index\u001b[39m=\u001b[39msplits[\u001b[39m\"\u001b[39;49m\u001b[39midx_val\u001b[39;49m\u001b[39m\"\u001b[39;49m][\u001b[39m288\u001b[39;49m]\n\u001b[0;32m      <a href='vscode-notebook-cell:/c%3A/Users/aminr/Documents/Thesis/Baselines/pre-training-via-denoising-main_3/pre-training-via-denoising-main/temp.ipynb#X30sZmlsZQ%3D%3D?line=1'>2</a>\u001b[0m data[\u001b[39m0\u001b[39m][\u001b[39m\"\u001b[39m\u001b[39mname\u001b[39m\u001b[39m\"\u001b[39m][index]\n",
      "\u001b[1;31mIndexError\u001b[0m: index 288 is out of bounds for axis 0 with size 203"
     ]
    }
   ],
   "source": [
    "index=splits[\"idx_val\"][288]\n",
    "data[0][\"name\"][index]"
   ]
  },
  {
   "cell_type": "code",
   "execution_count": 78,
   "metadata": {},
   "outputs": [
    {
     "data": {
      "application/3dmoljs_load.v0": "<div id=\"3dmolviewer_16936625020696561\"  style=\"position: relative; width: 400px; height: 400px;\">\n        <p id=\"3dmolwarning_16936625020696561\" style=\"background-color:#ffcccc;color:black\">You appear to be running in JupyterLab (or JavaScript failed to load for some other reason).  You need to install the 3dmol extension: <br>\n        <tt>jupyter labextension install jupyterlab_3dmol</tt></p>\n        </div>\n<script>\n\nvar loadScriptAsync = function(uri){\n  return new Promise((resolve, reject) => {\n    //this is to ignore the existence of requirejs amd\n    var savedexports, savedmodule;\n    if (typeof exports !== 'undefined') savedexports = exports;\n    else exports = {}\n    if (typeof module !== 'undefined') savedmodule = module;\n    else module = {}\n\n    var tag = document.createElement('script');\n    tag.src = uri;\n    tag.async = true;\n    tag.onload = () => {\n        exports = savedexports;\n        module = savedmodule;\n        resolve();\n    };\n  var firstScriptTag = document.getElementsByTagName('script')[0];\n  firstScriptTag.parentNode.insertBefore(tag, firstScriptTag);\n});\n};\n\nif(typeof $3Dmolpromise === 'undefined') {\n$3Dmolpromise = null;\n  $3Dmolpromise = loadScriptAsync('https://cdnjs.cloudflare.com/ajax/libs/3Dmol/2.0.3/3Dmol-min.js');\n}\n\nvar viewer_16936625020696561 = null;\nvar warn = document.getElementById(\"3dmolwarning_16936625020696561\");\nif(warn) {\n    warn.parentNode.removeChild(warn);\n}\n$3Dmolpromise.then(function() {\nviewer_16936625020696561 = $3Dmol.createViewer(document.getElementById(\"3dmolviewer_16936625020696561\"),{backgroundColor:\"white\"});\nviewer_16936625020696561.zoomTo();\n\tviewer_16936625020696561.removeAllModels();\n\tviewer_16936625020696561.addModel(\"\\n     RDKit          3D\\n\\n 72 73  0  0  0  0  0  0  0  0999 V2000\\n    0.0000    0.0000    0.0000 H   0  0  0  0  0 15  0  0  0  0  0  0\\n   -7.1126    0.1759    2.3420 C   0  0  0  0  0  0  0  0  0  0  0  0\\n   -5.7932    0.0800    1.9058 C   0  0  0  0  0  0  0  0  0  0  0  0\\n   -4.7372   -0.1555    2.8100 O   0  0  0  0  0  0  0  0  0  0  0  0\\n   -3.4905    0.3815    2.3397 C   0  0  0  0  0  0  0  0  0  0  0  0\\n   -3.2120   -0.3952    1.0286 C   0  0  0  0  0  0  0  0  0  0  0  0\\n   -1.7765   -0.2174    0.7714 N   0  0  0  0  0  0  0  0  0  0  0  0\\n   -1.4857    1.1072    0.3849 C   0  0  0  0  0  0  0  0  0  0  0  0\\n   -0.1788    1.7215    0.6811 C   0  0  0  0  0  0  0  0  0  0  0  0\\n    0.9907    0.9940    0.1601 C   0  0  0  0  0  0  0  0  0  0  0  0\\n    2.2961    1.7737    0.4577 C   0  0  0  0  0  0  0  0  0  0  0  0\\n    3.3711    0.9304   -0.0120 N   0  0  0  0  0  0  0  0  0  0  0  0\\n    3.9312   -0.0302    0.9115 C   0  0  0  0  0  0  0  0  0  0  0  0\\n    3.7222    0.1469    2.1162 O   0  0  0  0  0  0  0  0  0  0  0  0\\n    4.7069   -1.1396    0.3052 C   0  0  0  0  0  0  0  0  0  0  0  0\\n    5.7970   -0.4631   -0.5229 C   0  0  0  0  0  0  0  0  0  0  0  0\\n    5.1968    0.3369   -1.6277 C   0  0  0  0  0  0  0  0  0  0  0  0\\n    3.9139    0.9844   -1.3148 C   0  0  0  0  0  0  0  0  0  0  0  0\\n    3.3151    1.5876   -2.2442 O   0  0  0  0  0  0  0  0  0  0  0  0\\n    6.7566   -1.4876   -1.0541 C   0  0  0  0  0  0  0  0  0  0  0  0\\n    8.0956   -0.7849   -0.9221 C   0  0  0  0  0  0  0  0  0  0  0  0\\n    7.9827   -0.1128    0.4262 C   0  0  0  0  0  0  0  0  0  0  0  0\\n    6.5693    0.4098    0.4582 C   0  0  0  0  0  0  0  0  0  0  0  0\\n   -1.1918   -1.2934    0.0660 C   0  0  0  0  0  0  0  0  0  0  0  0\\n   -1.4902   -1.4547   -1.3849 C   0  0  0  0  0  0  0  0  0  0  0  0\\n   -0.7008   -2.6726   -1.9308 C   0  0  0  0  0  0  0  0  0  0  0  0\\n   -4.1232    0.1217   -0.0119 C   0  0  0  0  0  0  0  0  0  0  0  0\\n   -5.5147    0.2179    0.5710 C   0  0  0  0  0  0  0  0  0  0  0  0\\n   -6.5403    0.4547   -0.3572 C   0  0  0  0  0  0  0  0  0  0  0  0\\n   -6.2236    0.5876   -1.6918 O   0  0  0  0  0  0  0  0  0  0  0  0\\n   -7.2332    0.8212   -2.6348 C   0  0  0  0  0  0  0  0  0  0  0  0\\n   -7.8327    0.5454    0.1031 C   0  0  0  0  0  0  0  0  0  0  0  0\\n   -8.1408    0.4068    1.4620 C   0  0  0  0  0  0  0  0  0  0  0  0\\n    0.0000    0.0000    0.0000 Cl  0  0  0  0  0 15  0  0  0  0  0  0\\n   -7.3384    0.0690    3.3844 H   0  0  0  0  0  0  0  0  0  0  0  0\\n   -3.6579    1.4365    2.1088 H   0  0  0  0  0  0  0  0  0  0  0  0\\n   -2.6672    0.1806    3.0225 H   0  0  0  0  0  0  0  0  0  0  0  0\\n   -3.3839   -1.4445    1.2464 H   0  0  0  0  0  0  0  0  0  0  0  0\\n   -2.3095    1.7686    0.8090 H   0  0  0  0  0  0  0  0  0  0  0  0\\n   -1.6460    1.2595   -0.7367 H   0  0  0  0  0  0  0  0  0  0  0  0\\n   -0.0558    1.9204    1.8065 H   0  0  0  0  0  0  0  0  0  0  0  0\\n   -0.2248    2.7761    0.2581 H   0  0  0  0  0  0  0  0  0  0  0  0\\n    1.1314    0.0782    0.8152 H   0  0  0  0  0  0  0  0  0  0  0  0\\n    1.0053    0.7811   -0.9099 H   0  0  0  0  0  0  0  0  0  0  0  0\\n    2.3854    2.0283    1.5110 H   0  0  0  0  0  0  0  0  0  0  0  0\\n    2.2823    2.7219   -0.1361 H   0  0  0  0  0  0  0  0  0  0  0  0\\n    5.1693   -1.7594    1.0754 H   0  0  0  0  0  0  0  0  0  0  0  0\\n    4.0166   -1.6820   -0.3776 H   0  0  0  0  0  0  0  0  0  0  0  0\\n    5.0892   -0.2689   -2.5653 H   0  0  0  0  0  0  0  0  0  0  0  0\\n    5.9170    1.1667   -1.8849 H   0  0  0  0  0  0  0  0  0  0  0  0\\n    6.7902   -2.3684   -0.3594 H   0  0  0  0  0  0  0  0  0  0  0  0\\n    6.5346   -1.8079   -2.0861 H   0  0  0  0  0  0  0  0  0  0  0  0\\n    8.9281   -1.5093   -0.9278 H   0  0  0  0  0  0  0  0  0  0  0  0\\n    8.1663   -0.0061   -1.6796 H   0  0  0  0  0  0  0  0  0  0  0  0\\n    8.6889    0.7101    0.5702 H   0  0  0  0  0  0  0  0  0  0  0  0\\n    8.1715   -0.8781    1.2066 H   0  0  0  0  0  0  0  0  0  0  0  0\\n    6.4610    1.4445    0.1370 H   0  0  0  0  0  0  0  0  0  0  0  0\\n    6.2155    0.2995    1.5050 H   0  0  0  0  0  0  0  0  0  0  0  0\\n   -0.1536   -1.5780    0.3177 H   0  0  0  0  0  0  0  0  0  0  0  0\\n   -1.7518   -2.2259    0.5299 H   0  0  0  0  0  0  0  0  0  0  0  0\\n   -2.5138   -1.6687   -1.6689 H   0  0  0  0  0  0  0  0  0  0  0  0\\n   -1.0295   -0.5703   -1.9157 H   0  0  0  0  0  0  0  0  0  0  0  0\\n   -0.7368   -3.4531   -1.1466 H   0  0  0  0  0  0  0  0  0  0  0  0\\n    0.3271   -2.4004   -2.2043 H   0  0  0  0  0  0  0  0  0  0  0  0\\n   -1.2052   -3.0955   -2.8228 H   0  0  0  0  0  0  0  0  0  0  0  0\\n   -3.8315    1.1379   -0.3920 H   0  0  0  0  0  0  0  0  0  0  0  0\\n   -4.2395   -0.5809   -0.8555 H   0  0  0  0  0  0  0  0  0  0  0  0\\n   -8.1305    0.2098   -2.4235 H   0  0  0  0  0  0  0  0  0  0  0  0\\n   -7.5493    1.8970   -2.5665 H   0  0  0  0  0  0  0  0  0  0  0  0\\n   -6.8887    0.6193   -3.6784 H   0  0  0  0  0  0  0  0  0  0  0  0\\n   -8.6688    0.7289   -0.5584 H   0  0  0  0  0  0  0  0  0  0  0  0\\n   -9.1650    0.4851    1.7796 H   0  0  0  0  0  0  0  0  0  0  0  0\\n  2  3  2  0\\n  3  4  1  0\\n  4  5  1  0\\n  5  6  1  0\\n  6  7  1  0\\n  7  8  1  0\\n  8  9  1  0\\n  9 10  1  0\\n 10 11  1  0\\n 11 12  1  0\\n 12 13  1  0\\n 13 14  2  0\\n 13 15  1  0\\n 15 16  1  0\\n 16 17  1  0\\n 17 18  1  0\\n 18 19  2  0\\n 16 20  1  0\\n 20 21  1  0\\n 21 22  1  0\\n 22 23  1  0\\n  7 24  1  0\\n 24 25  1  0\\n 25 26  1  0\\n  6 27  1  0\\n 27 28  1  0\\n 28 29  2  0\\n 29 30  1  0\\n 30 31  1  0\\n 29 32  1  0\\n 32 33  2  0\\n 18 12  1  0\\n 23 16  1  0\\n 28  3  1  0\\n 33  2  1  0\\n  2 35  1  0\\n  5 36  1  0\\n  5 37  1  0\\n  6 38  1  0\\n  8 39  1  0\\n  8 40  1  0\\n  9 41  1  0\\n  9 42  1  0\\n 10 43  1  0\\n 10 44  1  0\\n 11 45  1  0\\n 11 46  1  0\\n 15 47  1  0\\n 15 48  1  0\\n 17 49  1  0\\n 17 50  1  0\\n 20 51  1  0\\n 20 52  1  0\\n 21 53  1  0\\n 21 54  1  0\\n 22 55  1  0\\n 22 56  1  0\\n 23 57  1  0\\n 23 58  1  0\\n 24 59  1  0\\n 24 60  1  0\\n 25 61  1  0\\n 25 62  1  0\\n 26 63  1  0\\n 26 64  1  0\\n 26 65  1  0\\n 27 66  1  0\\n 27 67  1  0\\n 31 68  1  0\\n 31 69  1  0\\n 31 70  1  0\\n 32 71  1  0\\n 33 72  1  0\\nM  CHG  2   1   1  34  -1\\nM  END\\n\",\"sdf\");\n\tviewer_16936625020696561.setStyle({\"stick\": {}});\n\tviewer_16936625020696561.setBackgroundColor(\"0xeeeeee\");\n\tviewer_16936625020696561.zoomTo();\nviewer_16936625020696561.render();\n});\n</script>",
      "text/html": [
       "<div id=\"3dmolviewer_16936625020696561\"  style=\"position: relative; width: 400px; height: 400px;\">\n",
       "        <p id=\"3dmolwarning_16936625020696561\" style=\"background-color:#ffcccc;color:black\">You appear to be running in JupyterLab (or JavaScript failed to load for some other reason).  You need to install the 3dmol extension: <br>\n",
       "        <tt>jupyter labextension install jupyterlab_3dmol</tt></p>\n",
       "        </div>\n",
       "<script>\n",
       "\n",
       "var loadScriptAsync = function(uri){\n",
       "  return new Promise((resolve, reject) => {\n",
       "    //this is to ignore the existence of requirejs amd\n",
       "    var savedexports, savedmodule;\n",
       "    if (typeof exports !== 'undefined') savedexports = exports;\n",
       "    else exports = {}\n",
       "    if (typeof module !== 'undefined') savedmodule = module;\n",
       "    else module = {}\n",
       "\n",
       "    var tag = document.createElement('script');\n",
       "    tag.src = uri;\n",
       "    tag.async = true;\n",
       "    tag.onload = () => {\n",
       "        exports = savedexports;\n",
       "        module = savedmodule;\n",
       "        resolve();\n",
       "    };\n",
       "  var firstScriptTag = document.getElementsByTagName('script')[0];\n",
       "  firstScriptTag.parentNode.insertBefore(tag, firstScriptTag);\n",
       "});\n",
       "};\n",
       "\n",
       "if(typeof $3Dmolpromise === 'undefined') {\n",
       "$3Dmolpromise = null;\n",
       "  $3Dmolpromise = loadScriptAsync('https://cdnjs.cloudflare.com/ajax/libs/3Dmol/2.0.3/3Dmol-min.js');\n",
       "}\n",
       "\n",
       "var viewer_16936625020696561 = null;\n",
       "var warn = document.getElementById(\"3dmolwarning_16936625020696561\");\n",
       "if(warn) {\n",
       "    warn.parentNode.removeChild(warn);\n",
       "}\n",
       "$3Dmolpromise.then(function() {\n",
       "viewer_16936625020696561 = $3Dmol.createViewer(document.getElementById(\"3dmolviewer_16936625020696561\"),{backgroundColor:\"white\"});\n",
       "viewer_16936625020696561.zoomTo();\n",
       "\tviewer_16936625020696561.removeAllModels();\n",
       "\tviewer_16936625020696561.addModel(\"\\n     RDKit          3D\\n\\n 72 73  0  0  0  0  0  0  0  0999 V2000\\n    0.0000    0.0000    0.0000 H   0  0  0  0  0 15  0  0  0  0  0  0\\n   -7.1126    0.1759    2.3420 C   0  0  0  0  0  0  0  0  0  0  0  0\\n   -5.7932    0.0800    1.9058 C   0  0  0  0  0  0  0  0  0  0  0  0\\n   -4.7372   -0.1555    2.8100 O   0  0  0  0  0  0  0  0  0  0  0  0\\n   -3.4905    0.3815    2.3397 C   0  0  0  0  0  0  0  0  0  0  0  0\\n   -3.2120   -0.3952    1.0286 C   0  0  0  0  0  0  0  0  0  0  0  0\\n   -1.7765   -0.2174    0.7714 N   0  0  0  0  0  0  0  0  0  0  0  0\\n   -1.4857    1.1072    0.3849 C   0  0  0  0  0  0  0  0  0  0  0  0\\n   -0.1788    1.7215    0.6811 C   0  0  0  0  0  0  0  0  0  0  0  0\\n    0.9907    0.9940    0.1601 C   0  0  0  0  0  0  0  0  0  0  0  0\\n    2.2961    1.7737    0.4577 C   0  0  0  0  0  0  0  0  0  0  0  0\\n    3.3711    0.9304   -0.0120 N   0  0  0  0  0  0  0  0  0  0  0  0\\n    3.9312   -0.0302    0.9115 C   0  0  0  0  0  0  0  0  0  0  0  0\\n    3.7222    0.1469    2.1162 O   0  0  0  0  0  0  0  0  0  0  0  0\\n    4.7069   -1.1396    0.3052 C   0  0  0  0  0  0  0  0  0  0  0  0\\n    5.7970   -0.4631   -0.5229 C   0  0  0  0  0  0  0  0  0  0  0  0\\n    5.1968    0.3369   -1.6277 C   0  0  0  0  0  0  0  0  0  0  0  0\\n    3.9139    0.9844   -1.3148 C   0  0  0  0  0  0  0  0  0  0  0  0\\n    3.3151    1.5876   -2.2442 O   0  0  0  0  0  0  0  0  0  0  0  0\\n    6.7566   -1.4876   -1.0541 C   0  0  0  0  0  0  0  0  0  0  0  0\\n    8.0956   -0.7849   -0.9221 C   0  0  0  0  0  0  0  0  0  0  0  0\\n    7.9827   -0.1128    0.4262 C   0  0  0  0  0  0  0  0  0  0  0  0\\n    6.5693    0.4098    0.4582 C   0  0  0  0  0  0  0  0  0  0  0  0\\n   -1.1918   -1.2934    0.0660 C   0  0  0  0  0  0  0  0  0  0  0  0\\n   -1.4902   -1.4547   -1.3849 C   0  0  0  0  0  0  0  0  0  0  0  0\\n   -0.7008   -2.6726   -1.9308 C   0  0  0  0  0  0  0  0  0  0  0  0\\n   -4.1232    0.1217   -0.0119 C   0  0  0  0  0  0  0  0  0  0  0  0\\n   -5.5147    0.2179    0.5710 C   0  0  0  0  0  0  0  0  0  0  0  0\\n   -6.5403    0.4547   -0.3572 C   0  0  0  0  0  0  0  0  0  0  0  0\\n   -6.2236    0.5876   -1.6918 O   0  0  0  0  0  0  0  0  0  0  0  0\\n   -7.2332    0.8212   -2.6348 C   0  0  0  0  0  0  0  0  0  0  0  0\\n   -7.8327    0.5454    0.1031 C   0  0  0  0  0  0  0  0  0  0  0  0\\n   -8.1408    0.4068    1.4620 C   0  0  0  0  0  0  0  0  0  0  0  0\\n    0.0000    0.0000    0.0000 Cl  0  0  0  0  0 15  0  0  0  0  0  0\\n   -7.3384    0.0690    3.3844 H   0  0  0  0  0  0  0  0  0  0  0  0\\n   -3.6579    1.4365    2.1088 H   0  0  0  0  0  0  0  0  0  0  0  0\\n   -2.6672    0.1806    3.0225 H   0  0  0  0  0  0  0  0  0  0  0  0\\n   -3.3839   -1.4445    1.2464 H   0  0  0  0  0  0  0  0  0  0  0  0\\n   -2.3095    1.7686    0.8090 H   0  0  0  0  0  0  0  0  0  0  0  0\\n   -1.6460    1.2595   -0.7367 H   0  0  0  0  0  0  0  0  0  0  0  0\\n   -0.0558    1.9204    1.8065 H   0  0  0  0  0  0  0  0  0  0  0  0\\n   -0.2248    2.7761    0.2581 H   0  0  0  0  0  0  0  0  0  0  0  0\\n    1.1314    0.0782    0.8152 H   0  0  0  0  0  0  0  0  0  0  0  0\\n    1.0053    0.7811   -0.9099 H   0  0  0  0  0  0  0  0  0  0  0  0\\n    2.3854    2.0283    1.5110 H   0  0  0  0  0  0  0  0  0  0  0  0\\n    2.2823    2.7219   -0.1361 H   0  0  0  0  0  0  0  0  0  0  0  0\\n    5.1693   -1.7594    1.0754 H   0  0  0  0  0  0  0  0  0  0  0  0\\n    4.0166   -1.6820   -0.3776 H   0  0  0  0  0  0  0  0  0  0  0  0\\n    5.0892   -0.2689   -2.5653 H   0  0  0  0  0  0  0  0  0  0  0  0\\n    5.9170    1.1667   -1.8849 H   0  0  0  0  0  0  0  0  0  0  0  0\\n    6.7902   -2.3684   -0.3594 H   0  0  0  0  0  0  0  0  0  0  0  0\\n    6.5346   -1.8079   -2.0861 H   0  0  0  0  0  0  0  0  0  0  0  0\\n    8.9281   -1.5093   -0.9278 H   0  0  0  0  0  0  0  0  0  0  0  0\\n    8.1663   -0.0061   -1.6796 H   0  0  0  0  0  0  0  0  0  0  0  0\\n    8.6889    0.7101    0.5702 H   0  0  0  0  0  0  0  0  0  0  0  0\\n    8.1715   -0.8781    1.2066 H   0  0  0  0  0  0  0  0  0  0  0  0\\n    6.4610    1.4445    0.1370 H   0  0  0  0  0  0  0  0  0  0  0  0\\n    6.2155    0.2995    1.5050 H   0  0  0  0  0  0  0  0  0  0  0  0\\n   -0.1536   -1.5780    0.3177 H   0  0  0  0  0  0  0  0  0  0  0  0\\n   -1.7518   -2.2259    0.5299 H   0  0  0  0  0  0  0  0  0  0  0  0\\n   -2.5138   -1.6687   -1.6689 H   0  0  0  0  0  0  0  0  0  0  0  0\\n   -1.0295   -0.5703   -1.9157 H   0  0  0  0  0  0  0  0  0  0  0  0\\n   -0.7368   -3.4531   -1.1466 H   0  0  0  0  0  0  0  0  0  0  0  0\\n    0.3271   -2.4004   -2.2043 H   0  0  0  0  0  0  0  0  0  0  0  0\\n   -1.2052   -3.0955   -2.8228 H   0  0  0  0  0  0  0  0  0  0  0  0\\n   -3.8315    1.1379   -0.3920 H   0  0  0  0  0  0  0  0  0  0  0  0\\n   -4.2395   -0.5809   -0.8555 H   0  0  0  0  0  0  0  0  0  0  0  0\\n   -8.1305    0.2098   -2.4235 H   0  0  0  0  0  0  0  0  0  0  0  0\\n   -7.5493    1.8970   -2.5665 H   0  0  0  0  0  0  0  0  0  0  0  0\\n   -6.8887    0.6193   -3.6784 H   0  0  0  0  0  0  0  0  0  0  0  0\\n   -8.6688    0.7289   -0.5584 H   0  0  0  0  0  0  0  0  0  0  0  0\\n   -9.1650    0.4851    1.7796 H   0  0  0  0  0  0  0  0  0  0  0  0\\n  2  3  2  0\\n  3  4  1  0\\n  4  5  1  0\\n  5  6  1  0\\n  6  7  1  0\\n  7  8  1  0\\n  8  9  1  0\\n  9 10  1  0\\n 10 11  1  0\\n 11 12  1  0\\n 12 13  1  0\\n 13 14  2  0\\n 13 15  1  0\\n 15 16  1  0\\n 16 17  1  0\\n 17 18  1  0\\n 18 19  2  0\\n 16 20  1  0\\n 20 21  1  0\\n 21 22  1  0\\n 22 23  1  0\\n  7 24  1  0\\n 24 25  1  0\\n 25 26  1  0\\n  6 27  1  0\\n 27 28  1  0\\n 28 29  2  0\\n 29 30  1  0\\n 30 31  1  0\\n 29 32  1  0\\n 32 33  2  0\\n 18 12  1  0\\n 23 16  1  0\\n 28  3  1  0\\n 33  2  1  0\\n  2 35  1  0\\n  5 36  1  0\\n  5 37  1  0\\n  6 38  1  0\\n  8 39  1  0\\n  8 40  1  0\\n  9 41  1  0\\n  9 42  1  0\\n 10 43  1  0\\n 10 44  1  0\\n 11 45  1  0\\n 11 46  1  0\\n 15 47  1  0\\n 15 48  1  0\\n 17 49  1  0\\n 17 50  1  0\\n 20 51  1  0\\n 20 52  1  0\\n 21 53  1  0\\n 21 54  1  0\\n 22 55  1  0\\n 22 56  1  0\\n 23 57  1  0\\n 23 58  1  0\\n 24 59  1  0\\n 24 60  1  0\\n 25 61  1  0\\n 25 62  1  0\\n 26 63  1  0\\n 26 64  1  0\\n 26 65  1  0\\n 27 66  1  0\\n 27 67  1  0\\n 31 68  1  0\\n 31 69  1  0\\n 31 70  1  0\\n 32 71  1  0\\n 33 72  1  0\\nM  CHG  2   1   1  34  -1\\nM  END\\n\",\"sdf\");\n",
       "\tviewer_16936625020696561.setStyle({\"stick\": {}});\n",
       "\tviewer_16936625020696561.setBackgroundColor(\"0xeeeeee\");\n",
       "\tviewer_16936625020696561.zoomTo();\n",
       "viewer_16936625020696561.render();\n",
       "});\n",
       "</script>"
      ]
     },
     "metadata": {},
     "output_type": "display_data"
    },
    {
     "name": "stdout",
     "output_type": "stream",
     "text": [
      "torch.Size([72, 3])\n",
      "torch.Size([71, 3])\n"
     ]
    }
   ],
   "source": [
    "smiles=data[0][\"name\"][index][2:]\n",
    "mol = AllChem.MolFromSmiles(smiles)\n",
    "#display(Draw.MolToImage(mol))\n",
    "mol = Chem.AddHs(mol)\n",
    "res = AllChem.EmbedMultipleConfs(mol, numConfs=1)\n",
    "res = AllChem.MMFFOptimizeMoleculeConfs(mol)\n",
    "Draw.IPythonConsole.drawMol3D(mol)\n",
    "print(torch.tensor(mol.GetConformer().GetPositions()).shape)\n",
    "print(torch.unique(torch.tensor(mol.GetConformer().GetPositions()), dim=0).shape)"
   ]
  },
  {
   "cell_type": "code",
   "execution_count": null,
   "metadata": {},
   "outputs": [],
   "source": [
    "bad mols = [[ 19]\n",
    " [ 59]\n",
    " [ 71]\n",
    " [288]\n",
    " [342]\n",
    " [390]]"
   ]
  },
  {
   "cell_type": "code",
   "execution_count": 10,
   "metadata": {},
   "outputs": [
    {
     "name": "stderr",
     "output_type": "stream",
     "text": [
      "  0%|          | 0/2050 [00:00<?, ?it/s]"
     ]
    },
    {
     "name": "stderr",
     "output_type": "stream",
     "text": [
      "100%|██████████| 2050/2050 [00:00<00:00, 2272.44it/s]\n"
     ]
    }
   ],
   "source": [
    "symbol_list=[]\n",
    "for i, smile in enumerate(tqdm(df[\"smiles\"])):\n",
    "    mol = AllChem.MolFromSmiles(smile)\n",
    "    if mol is None:\n",
    "        continue\n",
    "    for atom in mol.GetAtoms():\n",
    "        symb=atom.GetSymbol()\n",
    "        if symb not in symbol_list:\n",
    "            symbol_list.append(symb)"
   ]
  },
  {
   "cell_type": "code",
   "execution_count": 11,
   "metadata": {},
   "outputs": [],
   "source": [
    "strm=\"\"\n",
    "for i,symb in enumerate(symbol_list):\n",
    "    st=\"\\'\"+symb+\"\\'\"+\":\"+str(i)+\",\"\n",
    "    strm+=st"
   ]
  },
  {
   "cell_type": "code",
   "execution_count": 12,
   "metadata": {},
   "outputs": [
    {
     "data": {
      "text/plain": [
       "\"'Cl':0,'C':1,'N':2,'O':3,'F':4,'S':5,'Br':6,'I':7,'H':8,'Na':9,'P':10,'Ca':11,'B':12,\""
      ]
     },
     "execution_count": 12,
     "metadata": {},
     "output_type": "execute_result"
    }
   ],
   "source": [
    "strm"
   ]
  },
  {
   "cell_type": "code",
   "execution_count": null,
   "metadata": {},
   "outputs": [],
   "source": []
  }
 ],
 "metadata": {
  "kernelspec": {
   "display_name": "pvd",
   "language": "python",
   "name": "python3"
  },
  "language_info": {
   "codemirror_mode": {
    "name": "ipython",
    "version": 3
   },
   "file_extension": ".py",
   "mimetype": "text/x-python",
   "name": "python",
   "nbconvert_exporter": "python",
   "pygments_lexer": "ipython3",
   "version": "3.9.10"
  },
  "orig_nbformat": 4
 },
 "nbformat": 4,
 "nbformat_minor": 2
}
