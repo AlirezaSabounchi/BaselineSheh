{
 "cells": [
  {
   "cell_type": "code",
   "execution_count": 1,
   "metadata": {},
   "outputs": [],
   "source": [
    "import pandas as pd\n",
    "from rdkit import Chem\n",
    "from rdkit.Chem import AllChem\n",
    "from tqdm import tqdm\n",
    "import os"
   ]
  },
  {
   "cell_type": "code",
   "execution_count": 2,
   "metadata": {},
   "outputs": [
    {
     "name": "stderr",
     "output_type": "stream",
     "text": [
      "100%|██████████| 642/642 [00:03<00:00, 176.42it/s]\n"
     ]
    }
   ],
   "source": [
    "qdf= pd.read_csv('../data/from-smiles/SAMPL.csv')\n",
    "smiles = qdf['smiles']\n",
    "dataset = 'FreeSolv'\n",
    "\n",
    "three_ds = []\n",
    "failed_three_ds = []\n",
    "three_ds_path = f'../data/from-smiles/{dataset}-3d/'\n",
    "opt_three_ds = []\n",
    "failed_opt_three_ds = []\n",
    "opt_three_ds_path = f'../data/from-smiles/{dataset}-opt-3d/'\n",
    "two_ds = []\n",
    "two_ds_path = f'../data/from-smiles/{dataset}-2d/'\n",
    "sdf_file = f'{dataset}.sdf'\n",
    "csv_file = f'{dataset}.sdf.csv'\n",
    "\n",
    "target_columns = ['expt']\n",
    "\n",
    "for smile in tqdm(smiles):\n",
    "    try:\n",
    "        mol = Chem.MolFromSmiles(smile)\n",
    "        mol = Chem.AddHs(mol)\n",
    "        mol.SetProp('_Name', smile)\n",
    "        \n",
    "        AllChem.Compute2DCoords(mol)\n",
    "\n",
    "        # Save a copy of the 2D molecule\n",
    "        two_ds.append(mol.__copy__())\n",
    "\n",
    "        if (AllChem.EmbedMolecule(mol, randomSeed = 0xf00d, maxAttempts = 100) == -1):\n",
    "            failed_three_ds.append(smile)\n",
    "            continue\n",
    "        # Save 3D molecule\n",
    "        three_ds.append(mol.__copy__())\n",
    "\n",
    "        if AllChem.MMFFOptimizeMolecule(mol) == -1:\n",
    "            failed_opt_three_ds.append(smile)\n",
    "            continue\n",
    "\n",
    "        # Save optimized 3D molecule\n",
    "        opt_three_ds.append(mol.__copy__())\n",
    "    except Exception as e:\n",
    "        print(e)\n",
    "        continue\n",
    "\n",
    "if not os.path.exists(three_ds_path):\n",
    "    os.makedirs(three_ds_path)\n",
    "\n",
    "if not os.path.exists(opt_three_ds_path):\n",
    "    os.makedirs(opt_three_ds_path)\n",
    "\n",
    "if not os.path.exists(two_ds_path):\n",
    "    os.makedirs(two_ds_path)\n",
    "\n",
    "with Chem.SDWriter(two_ds_path + sdf_file) as writer:\n",
    "    for mol in two_ds:\n",
    "        writer.write(mol)\n",
    "qdf.drop(columns=qdf.columns.difference(target_columns), inplace=False).to_csv(two_ds_path + csv_file, index=False)\n",
    "\n",
    "with Chem.SDWriter(three_ds_path + sdf_file) as writer:\n",
    "    for mol in three_ds:\n",
    "        writer.write(mol)\n",
    "qdf.drop(columns=qdf.columns.difference(target_columns), inplace=False).to_csv(three_ds_path + csv_file, index=False)\n",
    "\n",
    "\n",
    "with Chem.SDWriter(opt_three_ds_path + sdf_file) as writer:\n",
    "    for mol in opt_three_ds:\n",
    "        writer.write(mol)\n",
    "qdf.drop(columns=qdf.columns.difference(target_columns), inplace=False).to_csv(opt_three_ds_path + csv_file, index=False)\n"
   ]
  },
  {
   "cell_type": "code",
   "execution_count": 5,
   "metadata": {},
   "outputs": [],
   "source": [
    "sdf = Chem.SDMolSupplier('data/from-smiles/gdb8-3d/gdb8.sdf')"
   ]
  },
  {
   "cell_type": "code",
   "execution_count": 22,
   "metadata": {},
   "outputs": [
    {
     "name": "stdout",
     "output_type": "stream",
     "text": [
      "-1\n",
      "-1\n"
     ]
    }
   ],
   "source": [
    "try:\n",
    "    mol = Chem.MolFromSmiles('[H]C([H])([H])C12C([H])([H])N(C1([H])[H])C2([H])[H]')\n",
    "    mol = Chem.AddHs(mol)\n",
    "    print(AllChem.EmbedMolecule(mol))\n",
    "    print(AllChem.EmbedMolecule(mol))\n",
    "except:\n",
    "    print('Failed to generate conformer for unrecognized molecules')"
   ]
  },
  {
   "cell_type": "code",
   "execution_count": null,
   "metadata": {},
   "outputs": [],
   "source": []
  }
 ],
 "metadata": {
  "kernelspec": {
   "display_name": "base",
   "language": "python",
   "name": "python3"
  },
  "language_info": {
   "codemirror_mode": {
    "name": "ipython",
    "version": 3
   },
   "file_extension": ".py",
   "mimetype": "text/x-python",
   "name": "python",
   "nbconvert_exporter": "python",
   "pygments_lexer": "ipython3",
   "version": "3.12.3"
  }
 },
 "nbformat": 4,
 "nbformat_minor": 2
}
