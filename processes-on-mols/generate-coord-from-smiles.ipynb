{
 "cells": [
  {
   "cell_type": "code",
   "execution_count": 1,
   "metadata": {},
   "outputs": [],
   "source": [
    "import pandas as pd\n",
    "from rdkit import Chem\n",
    "from rdkit.Chem import AllChem\n",
    "from tqdm import tqdm\n",
    "import os"
   ]
  },
  {
   "cell_type": "code",
   "execution_count": 2,
   "metadata": {},
   "outputs": [
    {
     "name": "stderr",
     "output_type": "stream",
     "text": [
      "  0%|          | 18/8597 [00:00<07:07, 20.09it/s][14:23:39] UFFTYPER: Unrecognized atom type: Ba (0)\n",
      "[14:23:39] UFFTYPER: Unrecognized charge state for atom: 1\n",
      "[14:23:39] UFFTYPER: Unrecognized atom type: Nd2+3 (1)\n",
      "[14:23:39] UFFTYPER: Unrecognized charge state for atom: 1\n",
      "[14:23:39] UFFTYPER: Unrecognized atom type: In2+3 (1)\n",
      "[14:23:39] UFFTYPER: Warning: hybridization set to SP3 for atom 1\n",
      "[14:23:39] UFFTYPER: Unrecognized atom type: Co3+3 (0)\n",
      "  1%|          | 46/8597 [00:01<03:25, 41.58it/s][14:23:39] UFFTYPER: Unrecognized atom type: Ca+2 (0)\n",
      "  1%|          | 88/8597 [00:01<02:09, 65.73it/s][14:23:40] UFFTYPER: Unrecognized atom type: Ni3+2 (0)\n",
      "[14:23:40] UFFTYPER: Unrecognized charge state for atom: 1\n",
      "[14:23:40] UFFTYPER: Warning: hybridization set to SP3 for atom 0\n",
      "[14:23:40] UFFTYPER: Unrecognized charge state for atom: 0\n",
      "[14:23:40] UFFTYPER: Unrecognized charge state for atom: 0\n",
      "[14:23:40] UFFTYPER: Unrecognized atom type: Cd+2 (0)\n",
      "  1%|          | 98/8597 [00:01<02:00, 70.82it/s][14:23:40] UFFTYPER: Unrecognized atom type: Ca+2 (0)\n",
      "  2%|▏         | 177/8597 [00:04<03:27, 40.59it/s][14:23:42] UFFTYPER: Unrecognized atom type: Fe2+2 (0)\n",
      "  2%|▏         | 208/8597 [00:05<04:36, 30.37it/s][14:23:43] UFFTYPER: Warning: hybridization set to SP3 for atom 1\n",
      "[14:23:43] UFFTYPER: Unrecognized charge state for atom: 1\n",
      "  3%|▎         | 219/8597 [00:05<05:42, 24.49it/s][14:23:43] UFFTYPER: Unrecognized atom type: Cd1+2 (4)\n",
      "[14:23:43] UFFTYPER: Unrecognized atom type: Ba (0)\n",
      "  3%|▎         | 254/8597 [00:06<05:10, 26.90it/s][14:23:44] UFFTYPER: Unrecognized atom type: Ba1 (1)\n",
      "[14:23:44] UFFTYPER: Unrecognized hybridization for atom: 1\n",
      "[14:23:44] UFFTYPER: Unrecognized charge state for atom: 1\n",
      "[14:23:44] UFFTYPER: Unrecognized atom type: Yb+3 (1)\n",
      "  5%|▌         | 443/8597 [00:12<02:25, 55.91it/s][14:23:50] UFFTYPER: Unrecognized atom type: Cr1+3 (0)\n",
      "  6%|▌         | 510/8597 [00:13<02:04, 64.78it/s][14:23:52] UFFTYPER: Unrecognized atom type: Zn1+2 (6)\n",
      "  8%|▊         | 652/8597 [00:17<02:03, 64.55it/s][14:23:55] UFFTYPER: Unrecognized charge state for atom: 7\n",
      " 11%|█▏        | 984/8597 [00:32<04:47, 26.45it/s][14:24:11] UFFTYPER: Unrecognized charge state for atom: 4\n",
      "[14:24:11] UFFTYPER: Unrecognized atom type: Pb3+3 (4)\n",
      " 12%|█▏        | 998/8597 [00:33<05:15, 24.12it/s][14:24:11] UFFTYPER: Unrecognized charge state for atom: 11\n",
      "[14:24:11] UFFTYPER: Warning: hybridization set to SP3 for atom 15\n",
      " 12%|█▏        | 1039/8597 [00:36<12:21, 10.20it/s][14:24:14] Explicit valence for atom # 0 F, 2, is greater than permitted\n"
     ]
    },
    {
     "name": "stdout",
     "output_type": "stream",
     "text": [
      "Python argument types in\n",
      "    rdkit.Chem.rdmolops.AddHs(NoneType)\n",
      "did not match C++ signature:\n",
      "    AddHs(RDKit::ROMol mol, bool explicitOnly=False, bool addCoords=False, boost::python::api::object onlyOnAtoms=None, bool addResidueInfo=False)\n"
     ]
    },
    {
     "name": "stderr",
     "output_type": "stream",
     "text": [
      " 13%|█▎        | 1143/8597 [00:40<02:56, 42.33it/s][14:24:18] UFFTYPER: Unrecognized charge state for atom: 0\n",
      "[14:24:18] UFFTYPER: Unrecognized atom type: Gd2+3 (0)\n",
      " 14%|█▍        | 1203/8597 [00:41<02:24, 51.23it/s][14:24:20] UFFTYPER: Warning: hybridization set to SP3 for atom 1\n",
      "[14:24:20] UFFTYPER: Unrecognized charge state for atom: 1\n",
      "[14:24:20] UFFTYPER: Unrecognized atom type: Mn2+2 (0)\n",
      "[14:24:20] UFFTYPER: Unrecognized charge state for atom: 7\n",
      " 14%|█▍        | 1222/8597 [00:42<02:55, 42.04it/s][14:24:20] UFFTYPER: Unrecognized charge state for atom: 10\n",
      " 14%|█▍        | 1237/8597 [00:42<02:26, 50.16it/s][14:24:20] UFFTYPER: Unrecognized atom type: Au6+3 (6)\n",
      " 15%|█▌        | 1298/8597 [00:44<03:48, 31.88it/s][14:24:22] UFFTYPER: Unrecognized charge state for atom: 0\n",
      "[14:24:22] UFFTYPER: Unrecognized atom type: Gd2+3 (0)\n",
      " 16%|█▌        | 1383/8597 [00:46<02:48, 42.91it/s][14:24:24] UFFTYPER: Unrecognized atom type: Mn2+2 (0)\n",
      " 16%|█▌        | 1394/8597 [00:47<03:38, 32.93it/s][14:24:25] UFFTYPER: Unrecognized charge state for atom: 2\n",
      " 17%|█▋        | 1455/8597 [00:53<08:35, 13.86it/s][14:24:31] UFFTYPER: Unrecognized atom type: Ti1+4 (5)\n",
      "[14:24:31] UFFTYPER: Unrecognized atom type: Cr1+3 (0)\n",
      "[14:24:31] UFFTYPER: Unrecognized atom type: Ni3+2 (0)\n",
      " 17%|█▋        | 1467/8597 [00:53<04:39, 25.49it/s][14:24:32] UFFTYPER: Unrecognized atom type: Ca+2 (0)\n",
      " 17%|█▋        | 1481/8597 [00:55<07:38, 15.51it/s][14:24:33] UFFTYPER: Unrecognized atom type: Co3+3 (0)\n",
      "[14:24:33] UFFTYPER: Unrecognized charge state for atom: 7\n",
      " 18%|█▊        | 1507/8597 [00:56<05:20, 22.09it/s][14:24:34] UFFTYPER: Unrecognized atom type: Zr3 (1)\n",
      " 18%|█▊        | 1538/8597 [00:58<07:24, 15.86it/s][14:24:36] UFFTYPER: Unrecognized atom type: As1+3 (0)\n",
      "[14:24:36] UFFTYPER: Unrecognized atom type: In+3 (1)\n",
      "[14:24:36] UFFTYPER: Warning: hybridization set to SP3 for atom 1\n",
      "[14:24:36] UFFTYPER: Warning: hybridization set to SP3 for atom 3\n",
      " 18%|█▊        | 1547/8597 [00:58<04:52, 24.08it/s][14:24:36] UFFTYPER: Unrecognized atom type: Cd+2 (1)\n",
      " 18%|█▊        | 1569/8597 [01:00<10:29, 11.17it/s][14:24:39] UFFTYPER: Unrecognized atom type: Mo2+6 (1)\n",
      "[14:24:39] UFFTYPER: Warning: hybridization set to SP3 for atom 1\n",
      "[14:24:39] UFFTYPER: Unrecognized charge state for atom: 1\n",
      "[14:24:39] UFFTYPER: Warning: hybridization set to SP3 for atom 4\n",
      "[14:24:39] UFFTYPER: Unrecognized charge state for atom: 4\n",
      " 19%|█▊        | 1598/8597 [01:01<05:34, 20.95it/s][14:24:40] UFFTYPER: Unrecognized atom type: Ca+2 (0)\n",
      " 19%|█▉        | 1639/8597 [01:04<08:28, 13.67it/s][14:24:42] UFFTYPER: Unrecognized charge state for atom: 5\n",
      " 19%|█▉        | 1661/8597 [01:05<07:16, 15.91it/s][14:24:44] UFFTYPER: Unrecognized atom type: Co3+3 (1)\n",
      " 19%|█▉        | 1669/8597 [01:07<13:03,  8.84it/s][14:24:45] UFFTYPER: Warning: hybridization set to SP3 for atom 0\n",
      "[14:24:45] UFFTYPER: Unrecognized charge state for atom: 0\n",
      " 19%|█▉        | 1671/8597 [01:07<12:34,  9.18it/s][14:24:45] UFFTYPER: Unrecognized atom type: Ca+2 (0)\n",
      "[14:24:46] UFFTYPER: Unrecognized hybridization for atom: 1\n",
      "[14:24:46] UFFTYPER: Unrecognized atom type: Au+3 (1)\n",
      " 19%|█▉        | 1676/8597 [01:07<11:32,  9.99it/s][14:24:46] UFFTYPER: Unrecognized atom type: Zn1+2 (8)\n",
      " 20%|█▉        | 1696/8597 [01:08<04:25, 25.96it/s][14:24:46] UFFTYPER: Unrecognized atom type: Zr2 (1)\n",
      " 20%|██        | 1723/8597 [01:09<03:51, 29.65it/s][14:24:47] UFFTYPER: Unrecognized charge state for atom: 0\n",
      "[14:24:47] UFFTYPER: Unrecognized atom type: Zn+2 (0)\n",
      " 20%|██        | 1738/8597 [01:09<03:36, 31.72it/s][14:24:48] UFFTYPER: Unrecognized atom type: Ca+2 (0)\n",
      " 20%|██        | 1759/8597 [01:10<05:38, 20.18it/s][14:24:49] UFFTYPER: Unrecognized atom type: Ca+2 (0)\n",
      " 21%|██        | 1765/8597 [01:10<04:42, 24.16it/s][14:24:49] UFFTYPER: Unrecognized charge state for atom: 0\n",
      "[14:24:49] UFFTYPER: Unrecognized atom type: Zn+2 (0)\n",
      " 21%|██        | 1772/8597 [01:10<03:39, 31.07it/s][14:24:49] UFFTYPER: Unrecognized hybridization for atom: 2\n",
      "[14:24:49] UFFTYPER: Unrecognized atom type: Fe+2 (2)\n",
      "[14:24:49] UFFTYPER: Unrecognized charge state for atom: 1\n",
      "[14:24:49] UFFTYPER: Unrecognized atom type: Eu5+3 (1)\n",
      " 21%|██        | 1786/8597 [01:11<04:19, 26.20it/s][14:24:50] Explicit valence for atom # 2 Cl, 2, is greater than permitted\n",
      " 21%|██        | 1796/8597 [01:11<03:52, 29.29it/s][14:24:50] UFFTYPER: Unrecognized atom type: Co5+3 (17)\n"
     ]
    },
    {
     "name": "stdout",
     "output_type": "stream",
     "text": [
      "Python argument types in\n",
      "    rdkit.Chem.rdmolops.AddHs(NoneType)\n",
      "did not match C++ signature:\n",
      "    AddHs(RDKit::ROMol mol, bool explicitOnly=False, bool addCoords=False, boost::python::api::object onlyOnAtoms=None, bool addResidueInfo=False)\n"
     ]
    },
    {
     "name": "stderr",
     "output_type": "stream",
     "text": [
      " 21%|██        | 1818/8597 [01:12<03:04, 36.83it/s][14:24:50] UFFTYPER: Unrecognized atom type: Ni6+2 (12)\n",
      " 21%|██▏       | 1831/8597 [01:14<10:10, 11.08it/s][14:24:52] UFFTYPER: Warning: hybridization set to SP3 for atom 7\n",
      "[14:24:52] UFFTYPER: Unrecognized hybridization for atom: 2\n",
      "[14:24:52] UFFTYPER: Unrecognized atom type: Au+3 (2)\n",
      " 21%|██▏       | 1847/8597 [01:15<07:22, 15.26it/s][14:24:53] UFFTYPER: Unrecognized atom type: Fe5+2 (7)\n",
      " 22%|██▏       | 1879/8597 [01:18<05:30, 20.32it/s][14:24:56] Explicit valence for atom # 0 Cl, 2, is greater than permitted\n",
      " 22%|██▏       | 1886/8597 [01:18<04:14, 26.41it/s]"
     ]
    },
    {
     "name": "stdout",
     "output_type": "stream",
     "text": [
      "Python argument types in\n",
      "    rdkit.Chem.rdmolops.AddHs(NoneType)\n",
      "did not match C++ signature:\n",
      "    AddHs(RDKit::ROMol mol, bool explicitOnly=False, bool addCoords=False, boost::python::api::object onlyOnAtoms=None, bool addResidueInfo=False)\n"
     ]
    },
    {
     "name": "stderr",
     "output_type": "stream",
     "text": [
      " 22%|██▏       | 1917/8597 [01:20<05:16, 21.12it/s][14:24:58] UFFTYPER: Warning: hybridization set to SP3 for atom 4\n",
      " 23%|██▎       | 1945/8597 [01:20<03:00, 36.94it/s][14:24:58] UFFTYPER: Warning: hybridization set to SP3 for atom 0\n",
      "[14:24:58] UFFTYPER: Unrecognized charge state for atom: 0\n",
      " 23%|██▎       | 1966/8597 [01:21<02:47, 39.70it/s][14:24:59] UFFTYPER: Unrecognized charge state for atom: 0\n",
      "[14:24:59] UFFTYPER: Unrecognized atom type: Zn+2 (0)\n",
      " 23%|██▎       | 1987/8597 [01:22<03:56, 27.89it/s][14:25:00] UFFTYPER: Unrecognized atom type: In2+3 (1)\n",
      " 24%|██▎       | 2023/8597 [01:24<07:34, 14.47it/s][14:25:02] UFFTYPER: Unrecognized atom type: Fe2+2 (0)\n",
      " 24%|██▍       | 2056/8597 [01:26<11:38,  9.36it/s][14:25:05] UFFTYPER: Unrecognized atom type: Cr1+3 (0)\n",
      "[14:25:05] UFFTYPER: Unrecognized charge state for atom: 0\n",
      "[14:25:05] UFFTYPER: Unrecognized atom type: Zn+2 (0)\n",
      " 24%|██▍       | 2073/8597 [01:27<05:26, 19.97it/s][14:25:05] UFFTYPER: Unrecognized atom type: Ca+2 (0)\n",
      " 24%|██▍       | 2081/8597 [01:27<05:42, 19.04it/s][14:25:06] UFFTYPER: Unrecognized atom type: Ca+2 (0)\n",
      " 25%|██▌       | 2164/8597 [01:31<04:41, 22.89it/s][14:25:09] UFFTYPER: Unrecognized charge state for atom: 1\n",
      " 26%|██▋       | 2257/8597 [01:36<08:45, 12.07it/s][14:25:14] UFFTYPER: Warning: hybridization set to SP3 for atom 1\n",
      "[14:25:14] UFFTYPER: Unrecognized charge state for atom: 1\n",
      " 27%|██▋       | 2288/8597 [01:37<04:31, 23.27it/s][14:25:16] UFFTYPER: Unrecognized hybridization for atom: 1\n",
      "[14:25:16] UFFTYPER: Unrecognized atom type: Pt+2 (1)\n",
      " 27%|██▋       | 2296/8597 [01:38<04:10, 25.20it/s][14:25:16] UFFTYPER: Unrecognized atom type: Fe2+2 (0)\n",
      " 27%|██▋       | 2335/8597 [01:40<07:40, 13.60it/s][14:25:19] UFFTYPER: Warning: hybridization set to SP for atom 0\n",
      "[14:25:19] UFFTYPER: Unrecognized charge state for atom: 0\n",
      " 28%|██▊       | 2371/8597 [01:42<10:52,  9.55it/s][14:25:21] UFFTYPER: Unrecognized charge state for atom: 0\n",
      "[14:25:21] UFFTYPER: Unrecognized atom type: Zn+2 (0)\n",
      " 28%|██▊       | 2378/8597 [01:43<07:53, 13.15it/s][14:25:21] UFFTYPER: Unrecognized atom type: Sr (0)\n",
      " 29%|██▊       | 2454/8597 [01:47<08:19, 12.30it/s][14:25:25] WARNING: not removing hydrogen atom without neighbors\n",
      "[14:25:25] WARNING: not removing hydrogen atom without neighbors\n",
      "[14:25:25] Explicit valence for atom # 3 Si, 8, is greater than permitted\n",
      "[14:25:25] Explicit valence for atom # 3 Si, 8, is greater than permitted\n",
      " 29%|██▊       | 2465/8597 [01:47<04:24, 23.22it/s]"
     ]
    },
    {
     "name": "stdout",
     "output_type": "stream",
     "text": [
      "Python argument types in\n",
      "    rdkit.Chem.rdmolops.AddHs(NoneType)\n",
      "did not match C++ signature:\n",
      "    AddHs(RDKit::ROMol mol, bool explicitOnly=False, bool addCoords=False, boost::python::api::object onlyOnAtoms=None, bool addResidueInfo=False)\n",
      "Python argument types in\n",
      "    rdkit.Chem.rdmolops.AddHs(NoneType)\n",
      "did not match C++ signature:\n",
      "    AddHs(RDKit::ROMol mol, bool explicitOnly=False, bool addCoords=False, boost::python::api::object onlyOnAtoms=None, bool addResidueInfo=False)\n"
     ]
    },
    {
     "name": "stderr",
     "output_type": "stream",
     "text": [
      " 29%|██▉       | 2481/8597 [01:47<03:29, 29.24it/s][14:25:26] UFFTYPER: Unrecognized atom type: Ca+2 (0)\n",
      " 29%|██▉       | 2530/8597 [01:51<08:38, 11.69it/s][14:25:29] UFFTYPER: Warning: hybridization set to SP3 for atom 1\n",
      "[14:25:29] UFFTYPER: Unrecognized charge state for atom: 1\n",
      " 30%|███       | 2594/8597 [01:57<04:13, 23.67it/s][14:25:35] UFFTYPER: Unrecognized charge state for atom: 7\n",
      " 31%|███       | 2673/8597 [02:01<15:52,  6.22it/s][14:25:40] UFFTYPER: Warning: hybridization set to SP3 for atom 1\n",
      "[14:25:40] UFFTYPER: Unrecognized charge state for atom: 1\n",
      " 31%|███▏      | 2706/8597 [02:03<03:56, 24.95it/s][14:25:41] UFFTYPER: Unrecognized charge state for atom: 3\n",
      " 33%|███▎      | 2856/8597 [02:09<03:49, 25.07it/s][14:25:47] UFFTYPER: Unrecognized charge state for atom: 4\n",
      " 34%|███▎      | 2890/8597 [02:10<04:33, 20.85it/s][14:25:49] UFFTYPER: Unrecognized atom type: Sc2+3 (1)\n",
      " 34%|███▍      | 2907/8597 [02:13<13:00,  7.29it/s][14:25:51] UFFTYPER: Unrecognized atom type: Ca+2 (0)\n",
      " 35%|███▍      | 2978/8597 [02:16<03:53, 24.10it/s][14:25:55] UFFTYPER: Warning: hybridization set to SP3 for atom 1\n",
      "[14:25:55] UFFTYPER: Unrecognized charge state for atom: 1\n",
      " 35%|███▍      | 2988/8597 [02:16<02:28, 37.77it/s][14:25:55] UFFTYPER: Unrecognized atom type: Cr3+3 (7)\n",
      " 35%|███▌      | 3019/8597 [02:18<03:59, 23.30it/s][14:25:56] UFFTYPER: Warning: hybridization set to SP3 for atom 1\n",
      "[14:25:56] UFFTYPER: Unrecognized charge state for atom: 1\n",
      "[14:25:56] UFFTYPER: Warning: hybridization set to SP3 for atom 1\n",
      "[14:25:56] UFFTYPER: Unrecognized charge state for atom: 1\n",
      "[14:25:56] UFFTYPER: Warning: hybridization set to SP3 for atom 1\n",
      "[14:25:56] UFFTYPER: Unrecognized charge state for atom: 1\n",
      " 35%|███▌      | 3023/8597 [02:18<04:04, 22.75it/s][14:25:56] UFFTYPER: Warning: hybridization set to SP3 for atom 1\n",
      "[14:25:56] UFFTYPER: Unrecognized charge state for atom: 1\n",
      " 35%|███▌      | 3048/8597 [02:19<03:25, 26.98it/s][14:25:57] UFFTYPER: Unrecognized atom type: Ag5+1 (0)\n",
      " 36%|███▌      | 3077/8597 [02:20<03:47, 24.25it/s][14:25:59] UFFTYPER: Warning: hybridization set to SP3 for atom 0\n",
      "[14:25:59] UFFTYPER: Unrecognized atom type: In+3 (1)\n",
      " 36%|███▌      | 3086/8597 [02:20<04:35, 20.03it/s][14:25:59] UFFTYPER: Unrecognized atom type: Co5+3 (45)\n",
      " 36%|███▌      | 3098/8597 [02:22<08:31, 10.75it/s][14:26:01] UFFTYPER: Unrecognized atom type: Ca+2 (0)\n",
      " 36%|███▌      | 3105/8597 [02:23<06:31, 14.02it/s][14:26:01] UFFTYPER: Warning: hybridization set to SP3 for atom 1\n",
      "[14:26:01] UFFTYPER: Unrecognized charge state for atom: 1\n",
      " 36%|███▋      | 3124/8597 [02:23<03:41, 24.71it/s][14:26:02] UFFTYPER: Unrecognized charge state for atom: 4\n",
      " 37%|███▋      | 3200/8597 [02:27<03:47, 23.70it/s][14:26:06] UFFTYPER: Unrecognized charge state for atom: 8\n",
      " 38%|███▊      | 3252/8597 [02:29<03:40, 24.28it/s][14:26:07] UFFTYPER: Unrecognized charge state for atom: 1\n",
      " 38%|███▊      | 3288/8597 [02:30<02:14, 39.44it/s][14:26:09] UFFTYPER: Unrecognized atom type: Ba (0)\n",
      " 39%|███▊      | 3312/8597 [02:31<01:48, 48.50it/s][14:26:09] UFFTYPER: Warning: hybridization set to SP3 for atom 9\n",
      " 40%|███▉      | 3400/8597 [02:35<03:48, 22.75it/s][14:26:13] UFFTYPER: Unrecognized charge state for atom: 14\n",
      " 40%|███▉      | 3415/8597 [02:36<04:55, 17.54it/s][14:26:14] UFFTYPER: Unrecognized atom type: Ca+2 (0)\n",
      " 42%|████▏     | 3580/8597 [02:43<03:20, 24.98it/s][14:26:22] UFFTYPER: Warning: hybridization set to SP3 for atom 0\n",
      "[14:26:22] UFFTYPER: Unrecognized charge state for atom: 0\n",
      "[14:26:22] UFFTYPER: Warning: hybridization set to SP3 for atom 0\n",
      "[14:26:22] UFFTYPER: Unrecognized charge state for atom: 0\n",
      " 42%|████▏     | 3652/8597 [02:45<03:09, 26.07it/s][14:26:24] UFFTYPER: Warning: hybridization set to SP3 for atom 1\n",
      "[14:26:24] UFFTYPER: Unrecognized charge state for atom: 1\n",
      " 44%|████▎     | 3759/8597 [02:51<07:56, 10.15it/s][14:26:30] UFFTYPER: Warning: hybridization set to SP3 for atom 1\n",
      "[14:26:30] UFFTYPER: Unrecognized charge state for atom: 1\n",
      "[14:26:30] UFFTYPER: Warning: hybridization set to SP3 for atom 1\n",
      "[14:26:30] UFFTYPER: Unrecognized charge state for atom: 1\n",
      " 44%|████▍     | 3794/8597 [02:53<04:29, 17.80it/s][14:26:31] UFFTYPER: Warning: hybridization set to SP3 for atom 5\n",
      " 44%|████▍     | 3814/8597 [02:54<03:45, 21.20it/s][14:26:32] UFFTYPER: Unrecognized charge state for atom: 4\n",
      " 45%|████▌     | 3880/8597 [02:56<02:02, 38.48it/s][14:26:35] UFFTYPER: Unrecognized charge state for atom: 2\n",
      " 45%|████▌     | 3907/8597 [02:57<02:12, 35.27it/s][14:26:35] UFFTYPER: Warning: hybridization set to SP3 for atom 1\n",
      "[14:26:35] UFFTYPER: Unrecognized charge state for atom: 1\n",
      " 46%|████▌     | 3945/8597 [02:59<03:24, 22.77it/s][14:26:37] UFFTYPER: Warning: hybridization set to SP3 for atom 1\n",
      "[14:26:37] UFFTYPER: Unrecognized charge state for atom: 1\n",
      " 47%|████▋     | 4029/8597 [03:03<02:26, 31.26it/s][14:26:41] UFFTYPER: Unrecognized atom type: Au6+3 (7)\n",
      " 47%|████▋     | 4051/8597 [03:04<02:53, 26.27it/s][14:26:42] UFFTYPER: Unrecognized atom type: Ca+2 (0)\n",
      " 47%|████▋     | 4057/8597 [03:04<04:02, 18.71it/s][14:26:43] UFFTYPER: Unrecognized charge state for atom: 4\n",
      " 47%|████▋     | 4077/8597 [03:05<02:29, 30.25it/s][14:26:43] UFFTYPER: Unrecognized atom type: Ca+2 (0)\n",
      " 48%|████▊     | 4085/8597 [03:05<02:23, 31.34it/s][14:26:43] UFFTYPER: Unrecognized charge state for atom: 1\n",
      " 49%|████▊     | 4170/8597 [03:10<04:14, 17.42it/s][14:26:49] UFFTYPER: Warning: hybridization set to SP3 for atom 1\n",
      "[14:26:49] UFFTYPER: Unrecognized charge state for atom: 1\n",
      " 49%|████▊     | 4175/8597 [03:11<03:25, 21.57it/s][14:26:49] SMILES Parse Error: syntax error while parsing: FAIL\n",
      "[14:26:49] SMILES Parse Error: Failed parsing SMILES 'FAIL' for input: 'FAIL'\n",
      " 49%|████▊     | 4179/8597 [03:11<02:59, 24.68it/s]"
     ]
    },
    {
     "name": "stdout",
     "output_type": "stream",
     "text": [
      "Python argument types in\n",
      "    rdkit.Chem.rdmolops.AddHs(NoneType)\n",
      "did not match C++ signature:\n",
      "    AddHs(RDKit::ROMol mol, bool explicitOnly=False, bool addCoords=False, boost::python::api::object onlyOnAtoms=None, bool addResidueInfo=False)\n"
     ]
    },
    {
     "name": "stderr",
     "output_type": "stream",
     "text": [
      " 50%|████▉     | 4259/8597 [03:14<04:24, 16.37it/s][14:26:53] UFFTYPER: Warning: hybridization set to SP3 for atom 1\n",
      "[14:26:53] UFFTYPER: Unrecognized charge state for atom: 1\n",
      "[14:26:53] UFFTYPER: Unrecognized charge state for atom: 14\n",
      " 51%|█████     | 4378/8597 [03:23<04:05, 17.19it/s][14:27:01] UFFTYPER: Unrecognized atom type: Au6+3 (6)\n",
      "[14:27:01] UFFTYPER: Unrecognized atom type: Cr3+3 (4)\n",
      "[14:27:01] UFFTYPER: Unrecognized atom type: Cr3+3 (4)\n",
      "[14:27:01] UFFTYPER: Unrecognized atom type: Cr3+3 (4)\n",
      " 51%|█████     | 4404/8597 [03:23<02:16, 30.66it/s][14:27:02] UFFTYPER: Warning: hybridization set to SP3 for atom 1\n",
      "[14:27:02] UFFTYPER: Unrecognized charge state for atom: 1\n",
      " 52%|█████▏    | 4435/8597 [03:25<05:19, 13.03it/s][14:27:03] UFFTYPER: Unrecognized atom type: Ca+2 (0)\n",
      " 52%|█████▏    | 4476/8597 [03:26<03:13, 21.26it/s][14:27:05] UFFTYPER: Unrecognized hybridization for atom: 1\n",
      "[14:27:05] UFFTYPER: Unrecognized atom type: Pt+2 (1)\n",
      " 54%|█████▍    | 4637/8597 [03:34<02:42, 24.32it/s][14:27:12] UFFTYPER: Unrecognized charge state for atom: 14\n",
      " 56%|█████▌    | 4781/8597 [03:40<01:28, 43.31it/s][14:27:18] SMILES Parse Error: syntax error while parsing: FAIL\n",
      "[14:27:18] SMILES Parse Error: Failed parsing SMILES 'FAIL' for input: 'FAIL'\n",
      " 56%|█████▌    | 4790/8597 [03:40<01:11, 53.08it/s]"
     ]
    },
    {
     "name": "stdout",
     "output_type": "stream",
     "text": [
      "Python argument types in\n",
      "    rdkit.Chem.rdmolops.AddHs(NoneType)\n",
      "did not match C++ signature:\n",
      "    AddHs(RDKit::ROMol mol, bool explicitOnly=False, bool addCoords=False, boost::python::api::object onlyOnAtoms=None, bool addResidueInfo=False)\n"
     ]
    },
    {
     "name": "stderr",
     "output_type": "stream",
     "text": [
      " 57%|█████▋    | 4918/8597 [03:45<04:04, 15.02it/s][14:27:23] UFFTYPER: Unrecognized atom type: Ag5+1 (0)\n",
      " 59%|█████▉    | 5098/8597 [03:55<05:03, 11.52it/s][14:27:33] SMILES Parse Error: syntax error while parsing: FAIL\n",
      "[14:27:33] SMILES Parse Error: Failed parsing SMILES 'FAIL' for input: 'FAIL'\n",
      " 59%|█████▉    | 5100/8597 [03:55<04:40, 12.47it/s]"
     ]
    },
    {
     "name": "stdout",
     "output_type": "stream",
     "text": [
      "Python argument types in\n",
      "    rdkit.Chem.rdmolops.AddHs(NoneType)\n",
      "did not match C++ signature:\n",
      "    AddHs(RDKit::ROMol mol, bool explicitOnly=False, bool addCoords=False, boost::python::api::object onlyOnAtoms=None, bool addResidueInfo=False)\n"
     ]
    },
    {
     "name": "stderr",
     "output_type": "stream",
     "text": [
      " 60%|█████▉    | 5151/8597 [03:56<01:19, 43.43it/s][14:27:35] UFFTYPER: Unrecognized atom type: Ca+2 (0)\n",
      " 61%|██████    | 5202/8597 [04:00<02:35, 21.89it/s][14:27:38] UFFTYPER: Unrecognized atom type: Ba (0)\n",
      " 61%|██████    | 5250/8597 [04:01<01:12, 46.38it/s][14:27:39] UFFTYPER: Unrecognized atom type: Ca+2 (0)\n",
      " 62%|██████▏   | 5313/8597 [04:02<01:23, 39.31it/s][14:27:41] UFFTYPER: Warning: hybridization set to SP3 for atom 1\n",
      "[14:27:41] UFFTYPER: Warning: hybridization set to SP3 for atom 3\n",
      "[14:27:41] UFFTYPER: Warning: hybridization set to SP3 for atom 1\n",
      "[14:27:41] UFFTYPER: Warning: hybridization set to SP3 for atom 3\n",
      "[14:27:41] UFFTYPER: Warning: hybridization set to SP3 for atom 1\n",
      "[14:27:41] UFFTYPER: Warning: hybridization set to SP3 for atom 3\n",
      "[14:27:41] UFFTYPER: Warning: hybridization set to SP3 for atom 1\n",
      "[14:27:41] UFFTYPER: Warning: hybridization set to SP3 for atom 3\n",
      "[14:27:41] UFFTYPER: Warning: hybridization set to SP3 for atom 1\n",
      "[14:27:41] UFFTYPER: Warning: hybridization set to SP3 for atom 18\n",
      "[14:27:41] UFFTYPER: Warning: hybridization set to SP3 for atom 31\n",
      "[14:27:41] UFFTYPER: Warning: hybridization set to SP3 for atom 40\n",
      "[14:27:41] UFFTYPER: Warning: hybridization set to SP3 for atom 49\n",
      "[14:27:41] UFFTYPER: Warning: hybridization set to SP3 for atom 58\n",
      "[14:27:41] UFFTYPER: Warning: hybridization set to SP3 for atom 67\n",
      "[14:27:41] UFFTYPER: Warning: hybridization set to SP3 for atom 76\n",
      " 62%|██████▏   | 5359/8597 [04:03<01:09, 46.86it/s][14:27:42] UFFTYPER: Unrecognized atom type: Cu5+1 (0)\n",
      " 64%|██████▎   | 5475/8597 [04:09<03:27, 15.05it/s][14:27:47] UFFTYPER: Warning: hybridization set to SP3 for atom 0\n",
      "[14:27:47] UFFTYPER: Unrecognized charge state for atom: 0\n",
      " 64%|██████▍   | 5498/8597 [04:10<02:22, 21.75it/s][14:27:48] UFFTYPER: Unrecognized charge state for atom: 2\n",
      "[14:27:48] UFFTYPER: Unrecognized charge state for atom: 2\n",
      " 64%|██████▍   | 5511/8597 [04:10<01:26, 35.74it/s][14:27:48] UFFTYPER: Unrecognized charge state for atom: 0\n",
      "[14:27:48] UFFTYPER: Unrecognized atom type: Zn+2 (0)\n",
      " 64%|██████▍   | 5516/8597 [04:11<04:04, 12.62it/s][14:27:50] UFFTYPER: Unrecognized charge state for atom: 0\n",
      "[14:27:50] UFFTYPER: Unrecognized atom type: Zn+2 (0)\n",
      " 64%|██████▍   | 5523/8597 [04:12<04:12, 12.19it/s][14:27:50] UFFTYPER: Warning: hybridization set to SP3 for atom 11\n",
      " 65%|██████▍   | 5583/8597 [04:14<01:42, 29.53it/s][14:27:53] UFFTYPER: Warning: hybridization set to SP3 for atom 0\n",
      "[14:27:53] UFFTYPER: Unrecognized charge state for atom: 0\n",
      " 65%|██████▍   | 5587/8597 [04:14<01:39, 30.12it/s][14:27:53] UFFTYPER: Unrecognized atom type: Ca+2 (0)\n",
      " 66%|██████▌   | 5664/8597 [04:21<04:50, 10.11it/s][14:27:59] UFFTYPER: Unrecognized charge state for atom: 0\n",
      "[14:27:59] UFFTYPER: Unrecognized atom type: Cd+2 (0)\n",
      " 66%|██████▌   | 5670/8597 [04:21<03:14, 15.02it/s][14:27:59] UFFTYPER: Unrecognized atom type: Ca+2 (0)\n",
      "[14:27:59] UFFTYPER: Unrecognized atom type: Ca+2 (0)\n",
      " 67%|██████▋   | 5753/8597 [04:24<01:31, 30.97it/s][14:28:02] UFFTYPER: Unrecognized atom type: Ca+2 (0)\n",
      " 67%|██████▋   | 5800/8597 [04:27<01:40, 27.91it/s][14:28:05] UFFTYPER: Warning: hybridization set to SP3 for atom 1\n",
      "[14:28:05] UFFTYPER: Warning: hybridization set to SP3 for atom 6\n",
      " 68%|██████▊   | 5860/8597 [04:28<01:06, 41.24it/s][14:28:07] UFFTYPER: Warning: hybridization set to SP3 for atom 1\n",
      "[14:28:07] UFFTYPER: Unrecognized charge state for atom: 1\n",
      " 69%|██████▊   | 5889/8597 [04:29<01:00, 44.80it/s][14:28:07] UFFTYPER: Unrecognized charge state for atom: 0\n",
      "[14:28:07] UFFTYPER: Unrecognized atom type: Zn+2 (0)\n",
      " 69%|██████▉   | 5973/8597 [04:34<01:21, 32.05it/s][14:28:12] UFFTYPER: Unrecognized atom type: Ca+2 (0)\n",
      " 70%|██████▉   | 5993/8597 [04:35<01:40, 25.92it/s][14:28:13] SMILES Parse Error: syntax error while parsing: FAIL\n",
      "[14:28:13] SMILES Parse Error: Failed parsing SMILES 'FAIL' for input: 'FAIL'\n",
      " 70%|██████▉   | 5998/8597 [04:35<01:31, 28.33it/s]"
     ]
    },
    {
     "name": "stdout",
     "output_type": "stream",
     "text": [
      "Python argument types in\n",
      "    rdkit.Chem.rdmolops.AddHs(NoneType)\n",
      "did not match C++ signature:\n",
      "    AddHs(RDKit::ROMol mol, bool explicitOnly=False, bool addCoords=False, boost::python::api::object onlyOnAtoms=None, bool addResidueInfo=False)\n"
     ]
    },
    {
     "name": "stderr",
     "output_type": "stream",
     "text": [
      " 70%|███████   | 6018/8597 [04:35<00:54, 47.66it/s][14:28:13] UFFTYPER: Warning: hybridization set to SP3 for atom 0\n",
      "[14:28:13] UFFTYPER: Unrecognized charge state for atom: 0\n",
      "[14:28:13] UFFTYPER: Unrecognized atom type: Pb3+3 (0)\n",
      " 70%|███████   | 6041/8597 [04:35<00:48, 52.82it/s][14:28:14] UFFTYPER: Unrecognized atom type: Se2+2 (3)\n",
      "[14:28:14] UFFTYPER: Unrecognized atom type: Se2+2 (3)\n",
      " 71%|███████▏  | 6137/8597 [04:39<00:54, 44.88it/s][14:28:18] UFFTYPER: Unrecognized hybridization for atom: 3\n",
      "[14:28:18] UFFTYPER: Unrecognized atom type: Pt+2 (3)\n",
      " 72%|███████▏  | 6158/8597 [04:40<01:00, 40.45it/s][14:28:18] SMILES Parse Error: syntax error while parsing: FAIL\n",
      "[14:28:18] SMILES Parse Error: Failed parsing SMILES 'FAIL' for input: 'FAIL'\n",
      " 72%|███████▏  | 6165/8597 [04:40<00:56, 43.22it/s]"
     ]
    },
    {
     "name": "stdout",
     "output_type": "stream",
     "text": [
      "Python argument types in\n",
      "    rdkit.Chem.rdmolops.AddHs(NoneType)\n",
      "did not match C++ signature:\n",
      "    AddHs(RDKit::ROMol mol, bool explicitOnly=False, bool addCoords=False, boost::python::api::object onlyOnAtoms=None, bool addResidueInfo=False)\n"
     ]
    },
    {
     "name": "stderr",
     "output_type": "stream",
     "text": [
      " 72%|███████▏  | 6212/8597 [04:43<02:18, 17.17it/s][14:28:21] UFFTYPER: Unrecognized atom type: Ca+2 (0)\n",
      " 73%|███████▎  | 6300/8597 [04:44<00:48, 47.28it/s][14:28:23] UFFTYPER: Unrecognized atom type: Se2+2 (3)\n",
      " 74%|███████▍  | 6362/8597 [04:46<00:56, 39.39it/s][14:28:25] UFFTYPER: Unrecognized atom type: As2+3 (1)\n",
      " 74%|███████▍  | 6374/8597 [04:46<00:51, 43.46it/s][14:28:25] UFFTYPER: Unrecognized atom type: Ca+2 (0)\n",
      " 74%|███████▍  | 6384/8597 [04:47<00:39, 56.55it/s][14:28:25] UFFTYPER: Unrecognized atom type: Mn2+2 (0)\n",
      " 75%|███████▍  | 6429/8597 [04:48<01:40, 21.58it/s][14:28:27] UFFTYPER: Unrecognized charge state for atom: 1\n",
      " 76%|███████▌  | 6507/8597 [04:51<01:09, 29.97it/s][14:28:29] UFFTYPER: Unrecognized charge state for atom: 14\n",
      " 77%|███████▋  | 6604/8597 [04:55<01:09, 28.70it/s][14:28:33] SMILES Parse Error: syntax error while parsing: FAIL\n",
      "[14:28:33] SMILES Parse Error: Failed parsing SMILES 'FAIL' for input: 'FAIL'\n"
     ]
    },
    {
     "name": "stdout",
     "output_type": "stream",
     "text": [
      "Python argument types in\n",
      "    rdkit.Chem.rdmolops.AddHs(NoneType)\n",
      "did not match C++ signature:\n",
      "    AddHs(RDKit::ROMol mol, bool explicitOnly=False, bool addCoords=False, boost::python::api::object onlyOnAtoms=None, bool addResidueInfo=False)\n"
     ]
    },
    {
     "name": "stderr",
     "output_type": "stream",
     "text": [
      " 77%|███████▋  | 6620/8597 [04:56<01:42, 19.32it/s][14:28:34] SMILES Parse Error: syntax error while parsing: FAIL\n",
      "[14:28:34] SMILES Parse Error: Failed parsing SMILES 'FAIL' for input: 'FAIL'\n",
      " 77%|███████▋  | 6626/8597 [04:56<01:17, 25.59it/s][14:28:34] SMILES Parse Error: syntax error while parsing: FAIL\n",
      "[14:28:34] SMILES Parse Error: Failed parsing SMILES 'FAIL' for input: 'FAIL'\n",
      " 77%|███████▋  | 6630/8597 [04:56<01:12, 27.31it/s]"
     ]
    },
    {
     "name": "stdout",
     "output_type": "stream",
     "text": [
      "Python argument types in\n",
      "    rdkit.Chem.rdmolops.AddHs(NoneType)\n",
      "did not match C++ signature:\n",
      "    AddHs(RDKit::ROMol mol, bool explicitOnly=False, bool addCoords=False, boost::python::api::object onlyOnAtoms=None, bool addResidueInfo=False)\n",
      "Python argument types in\n",
      "    rdkit.Chem.rdmolops.AddHs(NoneType)\n",
      "did not match C++ signature:\n",
      "    AddHs(RDKit::ROMol mol, bool explicitOnly=False, bool addCoords=False, boost::python::api::object onlyOnAtoms=None, bool addResidueInfo=False)\n"
     ]
    },
    {
     "name": "stderr",
     "output_type": "stream",
     "text": [
      " 78%|███████▊  | 6669/8597 [04:58<01:19, 24.32it/s][14:28:36] UFFTYPER: Unrecognized atom type: Co5+3 (45)\n",
      " 78%|███████▊  | 6734/8597 [05:00<00:56, 33.04it/s][14:28:38] UFFTYPER: Unrecognized charge state for atom: 4\n",
      " 78%|███████▊  | 6741/8597 [05:00<00:45, 41.02it/s][14:28:38] UFFTYPER: Warning: hybridization set to SP3 for atom 0\n",
      "[14:28:38] UFFTYPER: Unrecognized charge state for atom: 0\n",
      " 79%|███████▉  | 6814/8597 [05:02<00:40, 43.95it/s][14:28:41] UFFTYPER: Unrecognized charge state for atom: 14\n",
      " 79%|███████▉  | 6829/8597 [05:03<01:04, 27.56it/s][14:28:41] UFFTYPER: Warning: hybridization set to SP3 for atom 20\n",
      " 80%|███████▉  | 6864/8597 [05:05<01:19, 21.88it/s][14:28:44] UFFTYPER: Unrecognized atom type: Co3+3 (0)\n",
      " 80%|████████  | 6907/8597 [05:08<01:41, 16.57it/s][14:28:46] SMILES Parse Error: syntax error while parsing: FAIL\n",
      "[14:28:46] SMILES Parse Error: Failed parsing SMILES 'FAIL' for input: 'FAIL'\n",
      " 80%|████████  | 6913/8597 [05:08<01:15, 22.34it/s]"
     ]
    },
    {
     "name": "stdout",
     "output_type": "stream",
     "text": [
      "Python argument types in\n",
      "    rdkit.Chem.rdmolops.AddHs(NoneType)\n",
      "did not match C++ signature:\n",
      "    AddHs(RDKit::ROMol mol, bool explicitOnly=False, bool addCoords=False, boost::python::api::object onlyOnAtoms=None, bool addResidueInfo=False)\n"
     ]
    },
    {
     "name": "stderr",
     "output_type": "stream",
     "text": [
      " 81%|████████  | 6977/8597 [05:12<01:12, 22.26it/s][14:28:50] UFFTYPER: Warning: hybridization set to SP3 for atom 4\n",
      "[14:28:50] UFFTYPER: Warning: hybridization set to SP3 for atom 3\n",
      " 82%|████████▏ | 7014/8597 [05:13<01:09, 22.72it/s][14:28:52] UFFTYPER: Unrecognized charge state for atom: 1\n",
      "[14:28:52] UFFTYPER: Unrecognized atom type: Se2+2 (1)\n",
      " 82%|████████▏ | 7034/8597 [05:16<02:22, 10.98it/s][14:28:54] UFFTYPER: Warning: hybridization set to SP for atom 0\n",
      "[14:28:54] UFFTYPER: Unrecognized charge state for atom: 0\n",
      " 82%|████████▏ | 7081/8597 [05:17<01:01, 24.71it/s][14:28:56] UFFTYPER: Unrecognized charge state for atom: 1\n",
      " 83%|████████▎ | 7142/8597 [05:20<00:52, 27.87it/s][14:28:58] UFFTYPER: Warning: hybridization set to SP3 for atom 1\n",
      " 83%|████████▎ | 7159/8597 [05:20<00:37, 38.50it/s][14:28:59] UFFTYPER: Unrecognized atom type: Zn1+2 (1)\n",
      "[14:28:59] UFFTYPER: Unrecognized atom type: Pd6+2 (1)\n",
      " 84%|████████▎ | 7185/8597 [05:21<00:34, 40.70it/s][14:28:59] SMILES Parse Error: syntax error while parsing: FAIL\n",
      "[14:28:59] SMILES Parse Error: Failed parsing SMILES 'FAIL' for input: 'FAIL'\n"
     ]
    },
    {
     "name": "stdout",
     "output_type": "stream",
     "text": [
      "Python argument types in\n",
      "    rdkit.Chem.rdmolops.AddHs(NoneType)\n",
      "did not match C++ signature:\n",
      "    AddHs(RDKit::ROMol mol, bool explicitOnly=False, bool addCoords=False, boost::python::api::object onlyOnAtoms=None, bool addResidueInfo=False)\n"
     ]
    },
    {
     "name": "stderr",
     "output_type": "stream",
     "text": [
      " 84%|████████▎ | 7190/8597 [05:21<00:50, 27.80it/s][14:29:00] UFFTYPER: Unrecognized atom type: Cu6+1 (0)\n",
      " 84%|████████▍ | 7209/8597 [05:22<00:43, 31.94it/s][14:29:00] UFFTYPER: Unrecognized atom type: Fe2+2 (0)\n",
      " 84%|████████▍ | 7215/8597 [05:22<00:38, 35.70it/s][14:29:00] UFFTYPER: Unrecognized atom type: Ni6+2 (1)\n",
      " 84%|████████▍ | 7220/8597 [05:22<00:37, 37.16it/s][14:29:00] UFFTYPER: Unrecognized atom type: Fe2+2 (0)\n",
      " 84%|████████▍ | 7228/8597 [05:24<02:08, 10.69it/s][14:29:02] UFFTYPER: Unrecognized atom type: Ca+2 (0)\n",
      " 84%|████████▍ | 7255/8597 [05:24<00:56, 23.96it/s][14:29:03] UFFTYPER: Unrecognized atom type: Fe2+2 (0)\n",
      "[14:29:03] UFFTYPER: Warning: hybridization set to SP3 for atom 0\n",
      "[14:29:03] UFFTYPER: Warning: hybridization set to SP for atom 0\n",
      "[14:29:03] UFFTYPER: Unrecognized charge state for atom: 0\n",
      " 85%|████████▍ | 7271/8597 [05:25<00:29, 44.33it/s][14:29:03] UFFTYPER: Unrecognized atom type: Cr3+3 (1)\n",
      "[14:29:03] UFFTYPER: Unrecognized atom type: Cr3+3 (5)\n",
      " 85%|████████▍ | 7281/8597 [05:25<00:24, 53.39it/s][14:29:03] UFFTYPER: Unrecognized charge state for atom: 1\n",
      "[14:29:03] UFFTYPER: Unrecognized charge state for atom: 2\n",
      " 85%|████████▍ | 7290/8597 [05:25<00:21, 60.63it/s][14:29:03] UFFTYPER: Warning: hybridization set to SP3 for atom 8\n",
      "[14:29:03] UFFTYPER: Unrecognized atom type: Be+2 (0)\n",
      "[14:29:03] UFFTYPER: Warning: hybridization set to SP3 for atom 1\n",
      "[14:29:03] UFFTYPER: Unrecognized atom type: Cr3+3 (1)\n",
      "[14:29:03] UFFTYPER: Unrecognized atom type: Cr3+3 (5)\n",
      " 85%|████████▍ | 7299/8597 [05:25<00:20, 63.43it/s][14:29:03] UFFTYPER: Unrecognized atom type: Ca1+2 (1)\n",
      "[14:29:03] UFFTYPER: Warning: hybridization set to SP3 for atom 1\n",
      " 85%|████████▌ | 7338/8597 [05:26<00:47, 26.49it/s][14:29:05] SMILES Parse Error: syntax error while parsing: FAIL\n",
      "[14:29:05] SMILES Parse Error: Failed parsing SMILES 'FAIL' for input: 'FAIL'\n",
      " 85%|████████▌ | 7342/8597 [05:26<00:49, 25.30it/s]"
     ]
    },
    {
     "name": "stdout",
     "output_type": "stream",
     "text": [
      "Python argument types in\n",
      "    rdkit.Chem.rdmolops.AddHs(NoneType)\n",
      "did not match C++ signature:\n",
      "    AddHs(RDKit::ROMol mol, bool explicitOnly=False, bool addCoords=False, boost::python::api::object onlyOnAtoms=None, bool addResidueInfo=False)\n"
     ]
    },
    {
     "name": "stderr",
     "output_type": "stream",
     "text": [
      " 86%|████████▌ | 7389/8597 [05:27<00:17, 69.35it/s][14:29:05] UFFTYPER: Unrecognized charge state for atom: 2\n",
      " 86%|████████▋ | 7425/8597 [05:28<00:22, 53.01it/s][14:29:06] UFFTYPER: Unrecognized atom type: Sr (0)\n",
      "[14:29:06] UFFTYPER: Unrecognized atom type: Sr (0)\n",
      " 86%|████████▋ | 7432/8597 [05:28<00:30, 38.23it/s][14:29:06] UFFTYPER: Warning: hybridization set to SP3 for atom 1\n",
      "[14:29:06] UFFTYPER: Unrecognized charge state for atom: 1\n",
      " 87%|████████▋ | 7462/8597 [05:29<00:31, 36.03it/s][14:29:07] UFFTYPER: Unrecognized atom type: Mn2+2 (0)\n",
      "[14:29:07] UFFTYPER: Unrecognized charge state for atom: 0\n",
      "[14:29:07] UFFTYPER: Unrecognized atom type: Zn+2 (0)\n",
      " 88%|████████▊ | 7525/8597 [05:33<01:05, 16.39it/s][14:29:12] UFFTYPER: Unrecognized atom type: Ca+2 (0)\n",
      " 88%|████████▊ | 7533/8597 [05:34<00:48, 21.76it/s][14:29:12] UFFTYPER: Unrecognized charge state for atom: 14\n",
      " 88%|████████▊ | 7549/8597 [05:34<00:38, 27.27it/s][14:29:13] UFFTYPER: Unrecognized atom type: Ca+2 (0)\n",
      " 89%|████████▉ | 7690/8597 [05:43<01:02, 14.54it/s][14:29:22] UFFTYPER: Warning: hybridization set to SP3 for atom 1\n",
      "[14:29:22] UFFTYPER: Unrecognized charge state for atom: 1\n",
      " 91%|█████████▏| 7860/8597 [05:50<00:18, 39.20it/s][14:29:28] SMILES Parse Error: syntax error while parsing: FAIL\n",
      "[14:29:28] SMILES Parse Error: Failed parsing SMILES 'FAIL' for input: 'FAIL'\n",
      " 91%|█████████▏| 7866/8597 [05:50<00:17, 40.84it/s]"
     ]
    },
    {
     "name": "stdout",
     "output_type": "stream",
     "text": [
      "Python argument types in\n",
      "    rdkit.Chem.rdmolops.AddHs(NoneType)\n",
      "did not match C++ signature:\n",
      "    AddHs(RDKit::ROMol mol, bool explicitOnly=False, bool addCoords=False, boost::python::api::object onlyOnAtoms=None, bool addResidueInfo=False)\n"
     ]
    },
    {
     "name": "stderr",
     "output_type": "stream",
     "text": [
      " 92%|█████████▏| 7950/8597 [05:52<00:18, 35.00it/s][14:29:30] SMILES Parse Error: syntax error while parsing: FAIL\n",
      "[14:29:30] SMILES Parse Error: Failed parsing SMILES 'FAIL' for input: 'FAIL'\n",
      " 93%|█████████▎| 7954/8597 [05:52<00:18, 34.88it/s]"
     ]
    },
    {
     "name": "stdout",
     "output_type": "stream",
     "text": [
      "Python argument types in\n",
      "    rdkit.Chem.rdmolops.AddHs(NoneType)\n",
      "did not match C++ signature:\n",
      "    AddHs(RDKit::ROMol mol, bool explicitOnly=False, bool addCoords=False, boost::python::api::object onlyOnAtoms=None, bool addResidueInfo=False)\n"
     ]
    },
    {
     "name": "stderr",
     "output_type": "stream",
     "text": [
      " 94%|█████████▎| 8046/8597 [05:56<00:29, 18.98it/s][14:29:34] SMILES Parse Error: syntax error while parsing: FAIL\n",
      "[14:29:34] SMILES Parse Error: Failed parsing SMILES 'FAIL' for input: 'FAIL'\n",
      " 94%|█████████▎| 8052/8597 [05:56<00:23, 23.54it/s]"
     ]
    },
    {
     "name": "stdout",
     "output_type": "stream",
     "text": [
      "Python argument types in\n",
      "    rdkit.Chem.rdmolops.AddHs(NoneType)\n",
      "did not match C++ signature:\n",
      "    AddHs(RDKit::ROMol mol, bool explicitOnly=False, bool addCoords=False, boost::python::api::object onlyOnAtoms=None, bool addResidueInfo=False)\n"
     ]
    },
    {
     "name": "stderr",
     "output_type": "stream",
     "text": [
      " 95%|█████████▌| 8182/8597 [05:59<00:06, 60.55it/s][14:29:37] SMILES Parse Error: syntax error while parsing: FAIL\n",
      "[14:29:37] SMILES Parse Error: Failed parsing SMILES 'FAIL' for input: 'FAIL'\n",
      "[14:29:37] UFFTYPER: Unrecognized charge state for atom: 17\n",
      " 95%|█████████▌| 8189/8597 [05:59<00:07, 52.96it/s]"
     ]
    },
    {
     "name": "stdout",
     "output_type": "stream",
     "text": [
      "Python argument types in\n",
      "    rdkit.Chem.rdmolops.AddHs(NoneType)\n",
      "did not match C++ signature:\n",
      "    AddHs(RDKit::ROMol mol, bool explicitOnly=False, bool addCoords=False, boost::python::api::object onlyOnAtoms=None, bool addResidueInfo=False)\n"
     ]
    },
    {
     "name": "stderr",
     "output_type": "stream",
     "text": [
      " 96%|█████████▋| 8276/8597 [06:00<00:05, 58.52it/s][14:29:39] UFFTYPER: Unrecognized hybridization for atom: 1\n",
      "[14:29:39] UFFTYPER: Unrecognized atom type: Pt+2 (1)\n",
      " 97%|█████████▋| 8373/8597 [06:02<00:04, 45.02it/s][14:29:40] UFFTYPER: Unrecognized charge state for atom: 11\n",
      " 98%|█████████▊| 8430/8597 [06:03<00:04, 35.00it/s][14:29:42] UFFTYPER: Unrecognized charge state for atom: 7\n",
      " 98%|█████████▊| 8444/8597 [06:04<00:03, 43.29it/s][14:29:42] UFFTYPER: Unrecognized charge state for atom: 1\n",
      "100%|█████████▉| 8588/8597 [06:10<00:00, 13.30it/s][14:29:48] UFFTYPER: Warning: hybridization set to SP3 for atom 1\n",
      "[14:29:48] UFFTYPER: Unrecognized charge state for atom: 1\n",
      "[14:29:48] UFFTYPER: Warning: hybridization set to SP3 for atom 1\n",
      "[14:29:48] UFFTYPER: Unrecognized charge state for atom: 1\n",
      "100%|█████████▉| 8592/8597 [06:10<00:00, 12.97it/s][14:29:48] UFFTYPER: Warning: hybridization set to SP3 for atom 1\n",
      "[14:29:48] UFFTYPER: Unrecognized charge state for atom: 1\n",
      "[14:29:48] UFFTYPER: Unrecognized charge state for atom: 14\n",
      "100%|██████████| 8597/8597 [06:10<00:00, 23.18it/s]\n"
     ]
    }
   ],
   "source": [
    "qdf= pd.read_csv('../toxcast_data.csv')\n",
    "smiles = qdf['smiles']\n",
    "\n",
    "three_ds = []\n",
    "failed_three_ds = []\n",
    "three_ds_path = 'data/from-smiles/toxcast-3d/'\n",
    "opt_three_ds = []\n",
    "failed_opt_three_ds = []\n",
    "opt_three_ds_path = 'data/from-smiles/toxcast-3d-opt/'\n",
    "two_ds = []\n",
    "two_ds_path = 'data/from-smiles/toxcast-2d/'\n",
    "sdf_file = 'toxcast.sdf'\n",
    "csv_file = 'toxcast.sdf.csv'\n",
    "\n",
    "for smile in tqdm(smiles):\n",
    "    try:\n",
    "        mol = Chem.MolFromSmiles(smile)\n",
    "        mol = Chem.AddHs(mol)\n",
    "        mol.SetProp('_Name', smile)\n",
    "        \n",
    "        AllChem.Compute2DCoords(mol)\n",
    "\n",
    "        # Save a copy of the 2D molecule\n",
    "        two_ds.append(mol.__copy__())\n",
    "\n",
    "        if (AllChem.EmbedMolecule(mol, randomSeed = 0xf00d, maxAttempts = 100) == -1):\n",
    "            failed_three_ds.append(smile)\n",
    "            continue\n",
    "        # Save 3D molecule\n",
    "        three_ds.append(mol.__copy__())\n",
    "\n",
    "        if AllChem.MMFFOptimizeMolecule(mol) == -1:\n",
    "            failed_opt_three_ds.append(smile)\n",
    "            continue\n",
    "\n",
    "        # Save optimized 3D molecule\n",
    "        opt_three_ds.append(mol.__copy__())\n",
    "    except Exception as e:\n",
    "        print(e)\n",
    "        continue\n",
    "\n",
    "if not os.path.exists(three_ds_path):\n",
    "    os.makedirs(three_ds_path)\n",
    "\n",
    "if not os.path.exists(opt_three_ds_path):\n",
    "    os.makedirs(opt_three_ds_path)\n",
    "\n",
    "if not os.path.exists(two_ds_path):\n",
    "    os.makedirs(two_ds_path)\n",
    "\n",
    "with Chem.SDWriter(two_ds_path + sdf_file) as writer:\n",
    "    for mol in two_ds:\n",
    "        writer.write(mol)\n",
    "qdf.drop(columns=['smiles'], inplace=False).to_csv(two_ds_path + csv_file, index=False)\n",
    "\n",
    "with Chem.SDWriter(three_ds_path + sdf_file) as writer:\n",
    "    for mol in three_ds:\n",
    "        writer.write(mol)\n",
    "qdf = qdf[~qdf['smiles'].isin(failed_three_ds)]\n",
    "qdf.drop(columns=['smiles'], inplace=False).to_csv(three_ds_path + csv_file, index=False)\n",
    "\n",
    "with Chem.SDWriter(opt_three_ds_path + sdf_file) as writer:\n",
    "    for mol in opt_three_ds:\n",
    "        writer.write(mol)\n",
    "qdf = qdf[~qdf['smiles'].isin(failed_opt_three_ds)]\n",
    "qdf.drop(columns=['smiles'], inplace=False).to_csv(opt_three_ds_path + csv_file, index=False)"
   ]
  },
  {
   "cell_type": "code",
   "execution_count": 5,
   "metadata": {},
   "outputs": [],
   "source": [
    "sdf = Chem.SDMolSupplier('data/from-smiles/gdb8-3d/gdb8.sdf')"
   ]
  },
  {
   "cell_type": "code",
   "execution_count": 22,
   "metadata": {},
   "outputs": [
    {
     "name": "stdout",
     "output_type": "stream",
     "text": [
      "-1\n",
      "-1\n"
     ]
    }
   ],
   "source": [
    "try:\n",
    "    mol = Chem.MolFromSmiles('[H]C([H])([H])C12C([H])([H])N(C1([H])[H])C2([H])[H]')\n",
    "    mol = Chem.AddHs(mol)\n",
    "    print(AllChem.EmbedMolecule(mol))\n",
    "    print(AllChem.EmbedMolecule(mol))\n",
    "except:\n",
    "    print('Failed to generate conformer for unrecognized molecules')"
   ]
  },
  {
   "cell_type": "code",
   "execution_count": null,
   "metadata": {},
   "outputs": [],
   "source": []
  }
 ],
 "metadata": {
  "kernelspec": {
   "display_name": "base",
   "language": "python",
   "name": "python3"
  },
  "language_info": {
   "codemirror_mode": {
    "name": "ipython",
    "version": 3
   },
   "file_extension": ".py",
   "mimetype": "text/x-python",
   "name": "python",
   "nbconvert_exporter": "python",
   "pygments_lexer": "ipython3",
   "version": "3.1.-1"
  }
 },
 "nbformat": 4,
 "nbformat_minor": 2
}
