{
 "cells": [
  {
   "cell_type": "code",
   "execution_count": 1,
   "metadata": {},
   "outputs": [],
   "source": [
    "import pandas as pd\n",
    "from rdkit import Chem\n",
    "from rdkit.Chem import AllChem\n",
    "from tqdm import tqdm\n",
    "import os"
   ]
  },
  {
   "cell_type": "code",
   "execution_count": 4,
   "metadata": {},
   "outputs": [
    {
     "name": "stderr",
     "output_type": "stream",
     "text": [
      "  3%|▎         | 131/4200 [00:07<03:57, 17.14it/s][14:58:03] UFFTYPER: Unrecognized charge state for atom: 1\n",
      "  6%|▌         | 233/4200 [00:14<05:16, 12.53it/s][14:58:10] UFFTYPER: Unrecognized charge state for atom: 8\n",
      "  7%|▋         | 287/4200 [00:17<03:27, 18.87it/s][14:58:13] UFFTYPER: Unrecognized charge state for atom: 8\n",
      "  8%|▊         | 318/4200 [00:19<04:01, 16.09it/s][14:58:15] UFFTYPER: Unrecognized charge state for atom: 8\n",
      " 13%|█▎        | 533/4200 [00:32<03:25, 17.88it/s][14:58:28] UFFTYPER: Unrecognized charge state for atom: 8\n",
      " 16%|█▌        | 669/4200 [00:41<03:04, 19.18it/s][14:58:37] UFFTYPER: Unrecognized charge state for atom: 8\n",
      " 18%|█▊        | 760/4200 [00:47<04:14, 13.52it/s][14:58:43] UFFTYPER: Unrecognized charge state for atom: 8\n",
      " 20%|██        | 856/4200 [00:53<03:36, 15.46it/s][14:58:49] UFFTYPER: Unrecognized charge state for atom: 2\n",
      " 25%|██▌       | 1057/4200 [01:06<03:23, 15.45it/s][14:59:02] UFFTYPER: Unrecognized charge state for atom: 23\n",
      " 28%|██▊       | 1174/4200 [01:13<02:53, 17.39it/s][14:59:09] UFFTYPER: Unrecognized charge state for atom: 1\n",
      " 28%|██▊       | 1179/4200 [01:14<03:32, 14.19it/s][14:59:10] UFFTYPER: Unrecognized charge state for atom: 8\n",
      " 28%|██▊       | 1187/4200 [01:14<03:36, 13.93it/s][14:59:10] UFFTYPER: Unrecognized charge state for atom: 9\n",
      " 33%|███▎      | 1401/4200 [01:28<03:19, 14.06it/s][14:59:23] UFFTYPER: Unrecognized charge state for atom: 8\n",
      " 37%|███▋      | 1550/4200 [01:36<02:16, 19.46it/s][14:59:32] UFFTYPER: Unrecognized charge state for atom: 4\n",
      " 37%|███▋      | 1561/4200 [01:37<02:08, 20.47it/s][14:59:33] UFFTYPER: Unrecognized atom type: Se2+2 (3)\n",
      "[14:59:33] UFFTYPER: Unrecognized atom type: Se2+2 (3)\n",
      " 39%|███▉      | 1646/4200 [01:43<03:06, 13.70it/s][14:59:40] UFFTYPER: Unrecognized charge state for atom: 1\n",
      " 43%|████▎     | 1826/4200 [01:55<02:57, 13.36it/s][14:59:51] UFFTYPER: Unrecognized charge state for atom: 10\n",
      " 44%|████▎     | 1834/4200 [01:56<02:08, 18.46it/s][14:59:52] UFFTYPER: Unrecognized charge state for atom: 8\n",
      " 44%|████▍     | 1850/4200 [01:57<02:52, 13.61it/s][14:59:53] UFFTYPER: Unrecognized charge state for atom: 14\n",
      " 48%|████▊     | 2034/4200 [02:07<02:04, 17.38it/s][15:00:03] UFFTYPER: Unrecognized charge state for atom: 8\n",
      " 51%|█████     | 2148/4200 [02:15<02:17, 14.96it/s][15:00:11] UFFTYPER: Unrecognized charge state for atom: 1\n",
      " 55%|█████▍    | 2308/4200 [02:25<01:56, 16.18it/s][15:00:21] UFFTYPER: Unrecognized charge state for atom: 8\n",
      " 61%|██████▏   | 2576/4200 [02:41<01:19, 20.55it/s][15:00:37] UFFTYPER: Unrecognized charge state for atom: 8\n",
      " 69%|██████▊   | 2886/4200 [03:01<01:22, 15.85it/s][15:00:57] UFFTYPER: Unrecognized charge state for atom: 1\n",
      " 71%|███████   | 2979/4200 [03:06<01:25, 14.23it/s][15:01:02] UFFTYPER: Unrecognized charge state for atom: 8\n",
      " 80%|███████▉  | 3357/4200 [03:29<00:46, 18.23it/s][15:01:25] UFFTYPER: Unrecognized charge state for atom: 12\n",
      " 87%|████████▋ | 3638/4200 [03:47<00:36, 15.26it/s][15:01:43] UFFTYPER: Unrecognized charge state for atom: 33\n",
      " 92%|█████████▏| 3865/4200 [04:01<00:19, 17.07it/s][15:01:57] UFFTYPER: Unrecognized charge state for atom: 8\n",
      " 98%|█████████▊| 4116/4200 [04:17<00:04, 20.37it/s][15:02:13] UFFTYPER: Unrecognized charge state for atom: 8\n",
      "100%|██████████| 4200/4200 [04:21<00:00, 16.05it/s]\n"
     ]
    }
   ],
   "source": [
    "qdf= pd.read_csv('../data/from-smiles/Lipophilicity.csv')\n",
    "smiles = qdf['smiles']\n",
    "\n",
    "three_ds = []\n",
    "failed_three_ds = []\n",
    "three_ds_path = '../data/from-smiles/Lipophilicity-3d/'\n",
    "opt_three_ds = []\n",
    "failed_opt_three_ds = []\n",
    "opt_three_ds_path = '../data/from-smiles/Lipophilicity-3d-opt/'\n",
    "two_ds = []\n",
    "two_ds_path = '../data/from-smiles/Lipophilicity-2d/'\n",
    "sdf_file = 'Lipophilicity.sdf'\n",
    "csv_file = 'Lipophilicity.sdf.csv'\n",
    "\n",
    "target_columns = ['exp']\n",
    "\n",
    "for smile in tqdm(smiles):\n",
    "    try:\n",
    "        mol = Chem.MolFromSmiles(smile)\n",
    "        mol = Chem.AddHs(mol)\n",
    "        mol.SetProp('_Name', smile)\n",
    "        \n",
    "        AllChem.Compute2DCoords(mol)\n",
    "\n",
    "        # Save a copy of the 2D molecule\n",
    "        two_ds.append(mol.__copy__())\n",
    "\n",
    "        if (AllChem.EmbedMolecule(mol, randomSeed = 0xf00d, maxAttempts = 100) == -1):\n",
    "            failed_three_ds.append(smile)\n",
    "            continue\n",
    "        # Save 3D molecule\n",
    "        three_ds.append(mol.__copy__())\n",
    "\n",
    "        if AllChem.MMFFOptimizeMolecule(mol) == -1:\n",
    "            failed_opt_three_ds.append(smile)\n",
    "            continue\n",
    "\n",
    "        # Save optimized 3D molecule\n",
    "        opt_three_ds.append(mol.__copy__())\n",
    "    except Exception as e:\n",
    "        print(e)\n",
    "        continue\n",
    "\n",
    "if not os.path.exists(three_ds_path):\n",
    "    os.makedirs(three_ds_path)\n",
    "\n",
    "if not os.path.exists(opt_three_ds_path):\n",
    "    os.makedirs(opt_three_ds_path)\n",
    "\n",
    "if not os.path.exists(two_ds_path):\n",
    "    os.makedirs(two_ds_path)\n",
    "\n",
    "with Chem.SDWriter(two_ds_path + sdf_file) as writer:\n",
    "    for mol in two_ds:\n",
    "        writer.write(mol)\n",
    "qdf.drop(columns=qdf.columns.difference(target_columns), inplace=False).to_csv(two_ds_path + csv_file, index=False)\n",
    "\n",
    "with Chem.SDWriter(three_ds_path + sdf_file) as writer:\n",
    "    for mol in three_ds:\n",
    "        writer.write(mol)\n",
    "qdf.drop(columns=qdf.columns.difference(target_columns), inplace=False).to_csv(three_ds_path + csv_file, index=False)\n",
    "\n",
    "\n",
    "with Chem.SDWriter(opt_three_ds_path + sdf_file) as writer:\n",
    "    for mol in opt_three_ds:\n",
    "        writer.write(mol)\n",
    "qdf.drop(columns=qdf.columns.difference(target_columns), inplace=False).to_csv(opt_three_ds_path + csv_file, index=False)\n"
   ]
  },
  {
   "cell_type": "code",
   "execution_count": 5,
   "metadata": {},
   "outputs": [],
   "source": [
    "sdf = Chem.SDMolSupplier('data/from-smiles/gdb8-3d/gdb8.sdf')"
   ]
  },
  {
   "cell_type": "code",
   "execution_count": 22,
   "metadata": {},
   "outputs": [
    {
     "name": "stdout",
     "output_type": "stream",
     "text": [
      "-1\n",
      "-1\n"
     ]
    }
   ],
   "source": [
    "try:\n",
    "    mol = Chem.MolFromSmiles('[H]C([H])([H])C12C([H])([H])N(C1([H])[H])C2([H])[H]')\n",
    "    mol = Chem.AddHs(mol)\n",
    "    print(AllChem.EmbedMolecule(mol))\n",
    "    print(AllChem.EmbedMolecule(mol))\n",
    "except:\n",
    "    print('Failed to generate conformer for unrecognized molecules')"
   ]
  },
  {
   "cell_type": "code",
   "execution_count": null,
   "metadata": {},
   "outputs": [],
   "source": []
  }
 ],
 "metadata": {
  "kernelspec": {
   "display_name": "base",
   "language": "python",
   "name": "python3"
  },
  "language_info": {
   "codemirror_mode": {
    "name": "ipython",
    "version": 3
   },
   "file_extension": ".py",
   "mimetype": "text/x-python",
   "name": "python",
   "nbconvert_exporter": "python",
   "pygments_lexer": "ipython3",
   "version": "3.12.3"
  }
 },
 "nbformat": 4,
 "nbformat_minor": 2
}
