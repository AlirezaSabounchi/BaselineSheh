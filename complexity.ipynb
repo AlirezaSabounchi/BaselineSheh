{
 "cells": [
  {
   "cell_type": "code",
   "execution_count": 1,
   "metadata": {},
   "outputs": [],
   "source": [
    "import pandas as pd\n",
    "from __future__ import print_function\n",
    "import importlib.util\n",
    "import math\n",
    "import os\n",
    "import sys\n",
    "import numpy as np\n",
    "\n",
    "from collections import defaultdict\n",
    "from rdkit import Chem\n",
    "\n",
    "# If you don't want to draw your molecule these aren't necessary\n",
    "from rdkit.Chem import Draw\n",
    "from rdkit.Chem.Draw import DrawingOptions\n",
    "from rdkit.Chem.Draw import IPythonConsole\n",
    "\n",
    "from rdkit.Chem import AllChem\n",
    "from rdkit.Chem import RDConfig\n",
    "sys.path.append(os.path.join(RDConfig.RDContribDir,'ChiralPairs'))\n",
    "from ChiralDescriptors import determineAtomSubstituents"
   ]
  },
  {
   "cell_type": "code",
   "execution_count": 2,
   "metadata": {},
   "outputs": [],
   "source": [
    "from rdkit import Chem\n",
    "suppl = Chem.SDMolSupplier(\"data\\\\qm9\\\\raw_orig\\\\gdb9.sdf\", removeHs=False,\n",
    "                                   sanitize=False)"
   ]
  },
  {
   "cell_type": "code",
   "execution_count": 3,
   "metadata": {},
   "outputs": [
    {
     "data": {
      "text/plain": [
       "133885"
      ]
     },
     "execution_count": 3,
     "metadata": {},
     "output_type": "execute_result"
    }
   ],
   "source": [
    "len(suppl)"
   ]
  },
  {
   "cell_type": "code",
   "execution_count": 6,
   "metadata": {},
   "outputs": [],
   "source": [
    "mdic={\"name\":[],\"weight\":[]}"
   ]
  },
  {
   "cell_type": "code",
   "execution_count": 7,
   "metadata": {},
   "outputs": [],
   "source": [
    "def getweight(mol):\n",
    "    atoms=mol.GetAtoms()\n",
    "    w=0\n",
    "    for atom in atoms:\n",
    "        w+=atom.GetAtomicNum()\n",
    "    return w"
   ]
  },
  {
   "cell_type": "code",
   "execution_count": 8,
   "metadata": {},
   "outputs": [],
   "source": [
    "for mol in suppl:\n",
    "    n=mol.GetProp('_Name')\n",
    "    w=getweight(mol)\n",
    "    mdic[\"name\"].append(n)\n",
    "    mdic[\"weight\"].append(w)\n"
   ]
  },
  {
   "cell_type": "code",
   "execution_count": 9,
   "metadata": {},
   "outputs": [],
   "source": [
    "df=pd.DataFrame.from_dict(mdic)"
   ]
  },
  {
   "cell_type": "code",
   "execution_count": 18,
   "metadata": {},
   "outputs": [],
   "source": [
    "df.groupby(\"weight\")[\"name\"].count().to_frame(\"count\").reset_index().to_csv(\"wc.csv\")"
   ]
  },
  {
   "cell_type": "code",
   "execution_count": 4,
   "metadata": {},
   "outputs": [],
   "source": [
    "moldic={}\n",
    "for mol in suppl:\n",
    "    moldic[mol.GetProp('_Name')]=mol"
   ]
  },
  {
   "cell_type": "code",
   "execution_count": 5,
   "metadata": {},
   "outputs": [],
   "source": [
    "def findmol(name,suppl):\n",
    "    for mol in suppl:\n",
    "        molname=mol.GetProp('_Name')\n",
    "        if name==molname:\n",
    "            return mol\n",
    "    return None"
   ]
  },
  {
   "cell_type": "code",
   "execution_count": 12,
   "metadata": {},
   "outputs": [],
   "source": [
    "df1=pd.read_csv(\"pvd-lumo.csv\")\n",
    "#df2=pd.read_csv(\"lumo.csv\")"
   ]
  },
  {
   "cell_type": "code",
   "execution_count": 13,
   "metadata": {},
   "outputs": [],
   "source": [
    "bonds_keys=[\"CH\",\"CC\",\"CN\",\"CO\",\"CF\",\"NH\",\"NN\",\"NO\",\"NF\",\"OH\",\"OO\",\"OF\",\"FH\",\"FF\"]"
   ]
  },
  {
   "cell_type": "code",
   "execution_count": 14,
   "metadata": {},
   "outputs": [],
   "source": [
    "def GetBonds(mol):\n",
    "    bonds=mol.GetBonds()\n",
    "    bond_dic={k:0 for k in bonds_keys}\n",
    "    for bond in bonds:\n",
    "        i=bond.GetBeginAtom().GetSymbol()\n",
    "        j=bond.GetEndAtom().GetSymbol()\n",
    "        if i+j in bond_dic:\n",
    "            bond_dic[i+j]+=1\n",
    "        else:\n",
    "            bond_dic[j+i]+=1\n",
    "    return bond_dic"
   ]
  },
  {
   "cell_type": "code",
   "execution_count": 15,
   "metadata": {},
   "outputs": [],
   "source": [
    "df1[bonds_keys]=0"
   ]
  },
  {
   "cell_type": "code",
   "execution_count": 16,
   "metadata": {},
   "outputs": [],
   "source": [
    "names=df1[\"name\"]\n",
    "for i,name in enumerate(names):\n",
    "    bond_dic={ i:0 for i in bonds_keys }\n",
    "    mol=moldic[name]\n",
    "    molbonds=GetBonds(mol)\n",
    "    for key in molbonds.keys():\n",
    "        bond_dic[key]=molbonds[key]\n",
    "    df1.loc[i,bond_dic.keys()]=bond_dic.values()\n"
   ]
  },
  {
   "cell_type": "code",
   "execution_count": 17,
   "metadata": {},
   "outputs": [],
   "source": [
    "df1=df1.drop(\"Unnamed: 0\",axis=1)"
   ]
  },
  {
   "cell_type": "code",
   "execution_count": 18,
   "metadata": {},
   "outputs": [],
   "source": [
    "df1.to_csv(\"pvd-lumo-bonds.csv\")"
   ]
  },
  {
   "cell_type": "code",
   "execution_count": 12,
   "metadata": {},
   "outputs": [],
   "source": [
    "complexities=[i for i in range(len(names))]"
   ]
  },
  {
   "cell_type": "code",
   "execution_count": 14,
   "metadata": {},
   "outputs": [],
   "source": [
    "df1[\"compl\"]=complexities\n",
    "df2[\"compl\"]=complexities"
   ]
  },
  {
   "cell_type": "code",
   "execution_count": null,
   "metadata": {},
   "outputs": [],
   "source": [
    "df1.to_csv(\"homo.csv\")\n",
    "df2.to_csv(\"lumo.csv\")"
   ]
  }
 ],
 "metadata": {
  "kernelspec": {
   "display_name": "pvd",
   "language": "python",
   "name": "python3"
  },
  "language_info": {
   "codemirror_mode": {
    "name": "ipython",
    "version": 3
   },
   "file_extension": ".py",
   "mimetype": "text/x-python",
   "name": "python",
   "nbconvert_exporter": "python",
   "pygments_lexer": "ipython3",
   "version": "3.9.10"
  },
  "orig_nbformat": 4
 },
 "nbformat": 4,
 "nbformat_minor": 2
}
