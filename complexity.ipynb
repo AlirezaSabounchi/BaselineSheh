{
 "cells": [
  {
   "cell_type": "code",
   "execution_count": 1,
   "metadata": {},
   "outputs": [],
   "source": [
    "import pandas as pd\n",
    "from __future__ import print_function\n",
    "import importlib.util\n",
    "import math\n",
    "import os\n",
    "import sys\n",
    "import numpy as np\n",
    "\n",
    "from collections import defaultdict\n",
    "from rdkit import Chem\n",
    "\n",
    "# If you don't want to draw your molecule these aren't necessary\n",
    "from rdkit.Chem import Draw\n",
    "from rdkit.Chem.Draw import DrawingOptions\n",
    "from rdkit.Chem.Draw import IPythonConsole\n",
    "\n",
    "from rdkit.Chem import AllChem\n",
    "from rdkit.Chem import RDConfig\n",
    "sys.path.append(os.path.join(RDConfig.RDContribDir,'ChiralPairs'))\n",
    "from ChiralDescriptors import determineAtomSubstituents"
   ]
  },
  {
   "cell_type": "code",
   "execution_count": 2,
   "metadata": {},
   "outputs": [],
   "source": [
    "from rdkit import Chem\n",
    "suppl = Chem.SDMolSupplier(\"data\\\\qm9\\\\raw\\\\gdb9.sdf\", removeHs=False,\n",
    "                                   sanitize=True)"
   ]
  },
  {
   "cell_type": "code",
   "execution_count": 3,
   "metadata": {},
   "outputs": [],
   "source": [
    "# TODO: Implement logic to determine e.g. whether repeats of CCCCC are cyclopentyl and pentyl or two of either\n",
    "def GetChemicalNonequivsNew(atom, themol):\n",
    "    num_unique_substituents = 0\n",
    "    # 8 should do; I don't know of an atom with more bonds than Rhenium in [Re_{2}Cl_{8}]^{2-}\n",
    "    substituents = [[],[],[],[],[],[],[],[]]\n",
    "    substituents_just_atom_labels = [[],[],[],[],[],[],[],[]]\n",
    "    for item,key in enumerate(ChiralDescriptors.determineAtomSubstituents(atom.GetIdx(), themol, Chem.GetDistanceMatrix(themol))[0]):\n",
    "        for subatom in ChiralDescriptors.determineAtomSubstituents(atom.GetIdx(), themol, Chem.GetDistanceMatrix(themol))[0][key]:\n",
    "            substituents[item].append(themol.GetAtomWithIdx(subatom))\n",
    "            substituents_just_atom_labels[item].append(themol.GetAtomWithIdx(subatom).GetSymbol())\n",
    "    # At this point in the program we have the four-membered list of substituents.\n",
    "    # If the chains are of different lengths then it is impossible for them to be chemically equivalent.\n",
    "    # Therefore, our first hack will be to check the number of unique substituents and their lengths against each other.\n",
    "    # But let's rearrange the list so that we have only the substituents that actually exist -- the rest are hydrogen.\n",
    "    num_unique_substituents = len(set(tuple(tuple(substituent) for substituent in substituents_just_atom_labels if substituent)))\n",
    "    return num_unique_substituents\n",
    "\n",
    "def GetBottcherLocalDiversity(atom):\n",
    "    neighbors = []\n",
    "    for neighbor in atom.GetNeighbors():\n",
    "        neighbors.append(str(neighbor.GetSymbol()))\n",
    "    if atom.GetSymbol() in set(neighbors):\n",
    "        return len(set(neighbors))\n",
    "    else:\n",
    "        return len(set(neighbors))+1\n",
    "\n",
    "def GetNumIsomericPossibilities(atom):\n",
    "    try:\n",
    "        if(atom.GetProp('_CIPCode')):\n",
    "            return 2\n",
    "    except:\n",
    "        return 1\n",
    "def GetNumValenceElectrons(atom):\n",
    "    valence = {1: ['H', 'Li', 'Na', 'K', 'Rb', 'Cs', 'Fr'], # Alkali Metals\n",
    "               2: ['Be', 'Mg', 'Ca', 'Sr', 'Ba', 'Ra'], # Alkali Earth Metals\n",
    "               #transition metals???\n",
    "               3: ['B', 'Al', 'Ga', 'In', 'Tl', 'Nh'], #\n",
    "               4: ['C', 'Si', 'Ge', 'Sn', 'Pb', 'Fl'],\n",
    "               5: ['N', 'P', 'As', 'Sb', 'Bi', 'Mc'], # Pnictogens\n",
    "               6: ['O', 'S', 'Se', 'Te', 'Po', 'Lv'], # Chalcogens\n",
    "               7: ['F', 'Cl', 'Br', 'I', 'At', 'Ts'], # Halogens\n",
    "               8: ['He', 'Ne', 'Ar', 'Kr', 'Xe', 'Rn', 'Og']} # Noble Gases\n",
    "    for k in valence:\n",
    "        if atom.GetSymbol() in valence[k]:\n",
    "            return k\n",
    "    return 0\n",
    "\n",
    "\n",
    "def GetBottcherBondIndex(atom):\n",
    "    b_sub_i_ranking = 0\n",
    "    bonds = []\n",
    "    for bond in atom.GetBonds():\n",
    "        bonds.append(str(bond.GetBondType()))\n",
    "    for bond in bonds:\n",
    "        if bond == 'SINGLE':\n",
    "            b_sub_i_ranking += 1\n",
    "        if bond == 'DOUBLE':\n",
    "            b_sub_i_ranking += 2\n",
    "        if bond == 'TRIPLE':\n",
    "            b_sub_i_ranking += 3\n",
    "def GetBottcherBondIndex(atom):\n",
    "    b_sub_i_ranking = 0\n",
    "    bonds = []\n",
    "    for bond in atom.GetBonds():\n",
    "        bonds.append(str(bond.GetBondType()))\n",
    "    for bond in bonds:\n",
    "        if bond == 'SINGLE':\n",
    "            b_sub_i_ranking += 1\n",
    "        if bond == 'DOUBLE':\n",
    "            b_sub_i_ranking += 2\n",
    "        if bond == 'TRIPLE':\n",
    "            b_sub_i_ranking += 3\n",
    "    if 'AROMATIC' in bonds:\n",
    "    # This list can be expanded as errors arise.\n",
    "        if atom.GetSymbol() == 'C':\n",
    "            b_sub_i_ranking += 3\n",
    "        elif atom.GetSymbol() == 'N' or atom.GetSymbol() == 'S':\n",
    "            b_sub_i_ranking += 2\n",
    "    return b_sub_i_ranking\n",
    "\n",
    "def remove_values_from_list(the_list, val):\n",
    "   return [value for value in the_list if value != val]\n",
    "\n",
    "def GetTheAtoms(themol, symmetries, halflings=False):\n",
    "    # We need to see what the count is for each CIPCode and adjust\n",
    "    # Say our count of _CIPCode 0 is six, then we need to append that atom\n",
    "    # to compute_full_complexity three times.\n",
    "    # If it is five, we need to append to compute_full_complexity twice and\n",
    "    # compute_half_complexity once.\n",
    "    # In both cases, we need to remove their CIPCode frem the list of CIPcodes\n",
    "    # so that no other atom with that CIPCode gets counted.\n",
    "    # We leverage the fact that each atom with the same CIPCode is by def. the\n",
    "    # same to accomplish this.\n",
    "    compute_full_complexity = []\n",
    "    compute_half_complexity = []\n",
    "    for atom in themol.GetAtoms():\n",
    "        number_of_occurrences = symmetries.count(atom.GetProp('_CIPRank'))\n",
    "        if number_of_occurrences == 1 :\n",
    "            compute_full_complexity.append(atom)\n",
    "            continue;\n",
    "        else:\n",
    "            number_of_times_full = number_of_occurrences // 2;\n",
    "            number_of_times_half = number_of_occurrences % 2;\n",
    "            for i in range(0,number_of_times_full):\n",
    "                compute_full_complexity.append(atom)\n",
    "            for i in range(0,number_of_times_half):\n",
    "                compute_half_complexity.append(atom)\n",
    "            symmetries = remove_values_from_list(symmetries, atom.GetProp('_CIPRank'))\n",
    "            continue;\n",
    "\n",
    "    if halflings:\n",
    "        return compute_half_complexity\n",
    "    else:\n",
    "        return compute_full_complexity\n",
    "\n"
   ]
  },
  {
   "cell_type": "code",
   "execution_count": 4,
   "metadata": {},
   "outputs": [],
   "source": [
    "def GetBottcherComplexity(themol,debug=False):\n",
    "    complexity = 0\n",
    "    ## Assign CIPCodes to each atom in the molecule\n",
    "    Chem.AssignStereochemistry(themol,cleanIt=True,force=True,flagPossibleStereoCenters=True)\n",
    "    ## Append each atom's CIPCode to a list\n",
    "    CIPCodes = []\n",
    "    for atom in themol.GetAtoms():\n",
    "        CIPCodes.append(atom.GetProp('_CIPRank'))\n",
    "    atoms = GetTheAtoms(themol, CIPCodes)\n",
    "    half_atoms = GetTheAtoms(themol, CIPCodes, True)\n",
    "    if debug:\n",
    "        print(\"FULL ATOMS\")\n",
    "    for atom in atoms:\n",
    "        d = GetChemicalNonequivsNew(atom, themol)\n",
    "        e = GetBottcherLocalDiversity(atom)\n",
    "        s = GetNumIsomericPossibilities(atom)\n",
    "        V = GetNumValenceElectrons(atom)\n",
    "        b = GetBottcherBondIndex(atom)\n",
    "        complexity += d*e*s*math.log(V*b,2)\n",
    "        if debug:\n",
    "            PrintDebugInfo(str(atom.GetSymbol()), str(atom.GetProp('_CIPRank')), d, e, s, V, b)\n",
    "    if half_atoms:\n",
    "        if debug:\n",
    "            print(\"HALF ATOMS\")\n",
    "        for atom in half_atoms:\n",
    "            d = GetChemicalNonequivsNew(atom, themol)\n",
    "            e = GetBottcherLocalDiversity(atom)\n",
    "            s = GetNumIsomericPossibilities(atom)\n",
    "            V = GetNumValenceElectrons(atom)\n",
    "            b = GetBottcherBondIndex(atom)\n",
    "            complexity += (d*e*s*math.log(V*b,2)/2)\n",
    "            if debug:\n",
    "                PrintDebugInfo(str(atom.GetSymbol()), str(atom.GetProp('_CIPRank')), d, e, s, V, b)\n",
    "    if debug:\n",
    "        print('Current Complexity Score: ' + str(complexity))\n",
    "        return\n",
    "    return complexity"
   ]
  },
  {
   "cell_type": "code",
   "execution_count": 5,
   "metadata": {},
   "outputs": [],
   "source": [
    "from ChiralDescriptors import determineAtomSubstituents\n",
    "import ChiralDescriptors "
   ]
  },
  {
   "cell_type": "code",
   "execution_count": 9,
   "metadata": {},
   "outputs": [],
   "source": [
    "def findmol(name,suppl):\n",
    "    for mol in suppl:\n",
    "        molname=mol.GetProp('_Name')\n",
    "        if name==molname:\n",
    "            return mol\n",
    "    return None"
   ]
  },
  {
   "cell_type": "code",
   "execution_count": 6,
   "metadata": {},
   "outputs": [
    {
     "data": {
      "text/plain": [
       "8.0"
      ]
     },
     "execution_count": 6,
     "metadata": {},
     "output_type": "execute_result"
    }
   ],
   "source": [
    "GetBottcherComplexity(suppl[0])"
   ]
  },
  {
   "cell_type": "code",
   "execution_count": 8,
   "metadata": {},
   "outputs": [],
   "source": [
    "df1=pd.read_csv(\"homo.csv\")\n",
    "#df2=pd.read_csv(\"lumo.csv\")"
   ]
  },
  {
   "cell_type": "code",
   "execution_count": 11,
   "metadata": {},
   "outputs": [
    {
     "ename": "AttributeError",
     "evalue": "'NoneType' object has no attribute 'GetProp'",
     "output_type": "error",
     "traceback": [
      "\u001b[1;31m---------------------------------------------------------------------------\u001b[0m",
      "\u001b[1;31mAttributeError\u001b[0m                            Traceback (most recent call last)",
      "\u001b[1;32mc:\\Users\\aminr\\Documents\\Thesis\\Baselines\\pre-training-via-denoising-main_3\\pre-training-via-denoising-main\\complexity.ipynb Cell 9\u001b[0m in \u001b[0;36m<cell line: 3>\u001b[1;34m()\u001b[0m\n\u001b[0;32m      <a href='vscode-notebook-cell:/c%3A/Users/aminr/Documents/Thesis/Baselines/pre-training-via-denoising-main_3/pre-training-via-denoising-main/complexity.ipynb#X11sZmlsZQ%3D%3D?line=1'>2</a>\u001b[0m complexities\u001b[39m=\u001b[39m[]\n\u001b[0;32m      <a href='vscode-notebook-cell:/c%3A/Users/aminr/Documents/Thesis/Baselines/pre-training-via-denoising-main_3/pre-training-via-denoising-main/complexity.ipynb#X11sZmlsZQ%3D%3D?line=2'>3</a>\u001b[0m \u001b[39mfor\u001b[39;00m name \u001b[39min\u001b[39;00m names:\n\u001b[1;32m----> <a href='vscode-notebook-cell:/c%3A/Users/aminr/Documents/Thesis/Baselines/pre-training-via-denoising-main_3/pre-training-via-denoising-main/complexity.ipynb#X11sZmlsZQ%3D%3D?line=3'>4</a>\u001b[0m     mol\u001b[39m=\u001b[39mfindmol(name,suppl)\n\u001b[0;32m      <a href='vscode-notebook-cell:/c%3A/Users/aminr/Documents/Thesis/Baselines/pre-training-via-denoising-main_3/pre-training-via-denoising-main/complexity.ipynb#X11sZmlsZQ%3D%3D?line=4'>5</a>\u001b[0m     complexity\u001b[39m=\u001b[39mGetBottcherComplexity(suppl[\u001b[39m0\u001b[39m])\n\u001b[0;32m      <a href='vscode-notebook-cell:/c%3A/Users/aminr/Documents/Thesis/Baselines/pre-training-via-denoising-main_3/pre-training-via-denoising-main/complexity.ipynb#X11sZmlsZQ%3D%3D?line=5'>6</a>\u001b[0m     complexities\u001b[39m.\u001b[39mappend(complexity)\n",
      "\u001b[1;32mc:\\Users\\aminr\\Documents\\Thesis\\Baselines\\pre-training-via-denoising-main_3\\pre-training-via-denoising-main\\complexity.ipynb Cell 9\u001b[0m in \u001b[0;36mfindmol\u001b[1;34m(name, suppl)\u001b[0m\n\u001b[0;32m      <a href='vscode-notebook-cell:/c%3A/Users/aminr/Documents/Thesis/Baselines/pre-training-via-denoising-main_3/pre-training-via-denoising-main/complexity.ipynb#X11sZmlsZQ%3D%3D?line=0'>1</a>\u001b[0m \u001b[39mdef\u001b[39;00m \u001b[39mfindmol\u001b[39m(name,suppl):\n\u001b[0;32m      <a href='vscode-notebook-cell:/c%3A/Users/aminr/Documents/Thesis/Baselines/pre-training-via-denoising-main_3/pre-training-via-denoising-main/complexity.ipynb#X11sZmlsZQ%3D%3D?line=1'>2</a>\u001b[0m     \u001b[39mfor\u001b[39;00m mol \u001b[39min\u001b[39;00m suppl:\n\u001b[1;32m----> <a href='vscode-notebook-cell:/c%3A/Users/aminr/Documents/Thesis/Baselines/pre-training-via-denoising-main_3/pre-training-via-denoising-main/complexity.ipynb#X11sZmlsZQ%3D%3D?line=2'>3</a>\u001b[0m         molname\u001b[39m=\u001b[39mmol\u001b[39m.\u001b[39;49mGetProp(\u001b[39m'\u001b[39m\u001b[39m_Name\u001b[39m\u001b[39m'\u001b[39m)\n\u001b[0;32m      <a href='vscode-notebook-cell:/c%3A/Users/aminr/Documents/Thesis/Baselines/pre-training-via-denoising-main_3/pre-training-via-denoising-main/complexity.ipynb#X11sZmlsZQ%3D%3D?line=3'>4</a>\u001b[0m         \u001b[39mif\u001b[39;00m name\u001b[39m==\u001b[39mmolname:\n\u001b[0;32m      <a href='vscode-notebook-cell:/c%3A/Users/aminr/Documents/Thesis/Baselines/pre-training-via-denoising-main_3/pre-training-via-denoising-main/complexity.ipynb#X11sZmlsZQ%3D%3D?line=4'>5</a>\u001b[0m             \u001b[39mreturn\u001b[39;00m mol\n",
      "\u001b[1;31mAttributeError\u001b[0m: 'NoneType' object has no attribute 'GetProp'"
     ]
    }
   ],
   "source": [
    "names=df1[\"name\"]\n",
    "complexities=[]\n",
    "for name in names:\n",
    "    mol=findmol(name,suppl)\n",
    "    complexity=GetBottcherComplexity(suppl[0])\n",
    "    complexities.append(complexity)\n"
   ]
  },
  {
   "cell_type": "code",
   "execution_count": 12,
   "metadata": {},
   "outputs": [],
   "source": [
    "complexities=[i for i in range(len(names))]"
   ]
  },
  {
   "cell_type": "code",
   "execution_count": 14,
   "metadata": {},
   "outputs": [],
   "source": [
    "df1[\"compl\"]=complexities\n",
    "df2[\"compl\"]=complexities"
   ]
  },
  {
   "cell_type": "code",
   "execution_count": null,
   "metadata": {},
   "outputs": [],
   "source": [
    "df1.to_csv(\"homo.csv\")\n",
    "df2.to_csv(\"lumo.csv\")"
   ]
  }
 ],
 "metadata": {
  "kernelspec": {
   "display_name": "pvd",
   "language": "python",
   "name": "python3"
  },
  "language_info": {
   "codemirror_mode": {
    "name": "ipython",
    "version": 3
   },
   "file_extension": ".py",
   "mimetype": "text/x-python",
   "name": "python",
   "nbconvert_exporter": "python",
   "pygments_lexer": "ipython3",
   "version": "3.9.10"
  },
  "orig_nbformat": 4
 },
 "nbformat": 4,
 "nbformat_minor": 2
}
